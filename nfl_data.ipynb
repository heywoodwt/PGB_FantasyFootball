{
 "cells": [
  {
   "metadata": {},
   "cell_type": "markdown",
   "source": "https://github.com/cwendt94/espn-api/wiki/Football-Intro",
   "id": "ac625f95262f9b88"
  },
  {
   "metadata": {
    "ExecuteTime": {
     "end_time": "2024-09-19T02:00:10.937357Z",
     "start_time": "2024-09-19T02:00:04.899693Z"
    }
   },
   "cell_type": "code",
   "source": [
    "from datascience import *\n",
    "import numpy as np\n",
    "import matplotlib\n",
    "%matplotlib inline\n",
    "import matplotlib.pyplot as plt\n",
    "\n",
    "plt.style.use('fivethirtyeight')\n",
    "import pandas as pd\n",
    "from espn_api.football import League\n",
    "\n",
    "# Init\n",
    "pgb_league = League(league_id=1328496691, year=2024,\n",
    "                    espn_s2='AEBYECasftI1k7UT5d4A7FbT1EfGRH660hjw%2FclbTqlKTY1a7KlqHIhaj4%2BoPD82tbfS8uOCS0nq%2B9G8wgnOuztJOi%2BCRcAIfue1xsW3vQUYDLJ8TlX9s5ieZPAcI3MvgLzDfzRkT0QWjEbq2MRZrzEnv2zM8jY3MepkKDtXWwE4aauJTL4d4Tq4Zeljxgsz7%2BH4KYkVBSkczEsQPUQldvmdNQmkGWU2E8nQwXgDVAawjYObLsqqO93cuJiu2qlbPsrR7b%2FfEVNn7b9%2FFRMyvmIG8ZUKvUFAe6iINuUrUd0779KsdgCtBbg6210B4W%2FQjgQ%3D',\n",
    "                    swid='{2C7AFCC4-F961-4FAB-B021-DD728F1DC1E9}')"
   ],
   "id": "853fbe5c8d70d4ba",
   "outputs": [],
   "execution_count": 1
  },
  {
   "metadata": {
    "ExecuteTime": {
     "end_time": "2024-09-19T02:10:08.760442Z",
     "start_time": "2024-09-19T02:10:08.659731Z"
    }
   },
   "cell_type": "code",
   "source": [
    "pgb_league_teams = pgb_league.teams \n",
    "\n",
    "#Select a team and get all details for that team\n",
    "pgb_team = pgb_league_teams[0]\n",
    "pgb_team_details = pgb_team.team_details\n",
    "\n",
    "print(pgb_team_details)"
   ],
   "id": "ad8f5086050491e5",
   "outputs": [
    {
     "ename": "AttributeError",
     "evalue": "'Team' object has no attribute 'team_details'",
     "output_type": "error",
     "traceback": [
      "\u001B[0;31m---------------------------------------------------------------------------\u001B[0m",
      "\u001B[0;31mAttributeError\u001B[0m                            Traceback (most recent call last)",
      "Cell \u001B[0;32mIn[3], line 5\u001B[0m\n\u001B[1;32m      3\u001B[0m \u001B[38;5;66;03m#Select a team and get all details for that team\u001B[39;00m\n\u001B[1;32m      4\u001B[0m pgb_team \u001B[38;5;241m=\u001B[39m pgb_league_teams[\u001B[38;5;241m0\u001B[39m]\n\u001B[0;32m----> 5\u001B[0m pgb_team_details \u001B[38;5;241m=\u001B[39m \u001B[43mpgb_team\u001B[49m\u001B[38;5;241;43m.\u001B[39;49m\u001B[43mteam_details\u001B[49m\n\u001B[1;32m      7\u001B[0m \u001B[38;5;28mprint\u001B[39m(pgb_team_details)\n",
      "\u001B[0;31mAttributeError\u001B[0m: 'Team' object has no attribute 'team_details'"
     ]
    }
   ],
   "execution_count": 3
  }
 ],
 "metadata": {
  "kernelspec": {
   "display_name": "Python 3",
   "language": "python",
   "name": "python3"
  },
  "language_info": {
   "codemirror_mode": {
    "name": "ipython",
    "version": 2
   },
   "file_extension": ".py",
   "mimetype": "text/x-python",
   "name": "python",
   "nbconvert_exporter": "python",
   "pygments_lexer": "ipython2",
   "version": "2.7.6"
  }
 },
 "nbformat": 4,
 "nbformat_minor": 5
}
