{
 "cells": [
  {
   "metadata": {
    "ExecuteTime": {
     "end_time": "2024-09-18T02:46:03.529990Z",
     "start_time": "2024-09-18T02:45:57.990789Z"
    }
   },
   "cell_type": "code",
   "source": [
    "from datascience import *\n",
    "import numpy as np\n",
    "import matplotlib\n",
    "%matplotlib inline\n",
    "import matplotlib.pyplot as plt\n",
    "\n",
    "plt.style.use('fivethirtyeight')\n",
    "import pandas as pd\n",
    "from espn_api.football import League\n",
    "\n",
    "# Init\n",
    "pgb_league = League(league_id=1328496691, year=2024,\n",
    "                    espn_s2='AEBYECasftI1k7UT5d4A7FbT1EfGRH660hjw%2FclbTqlKTY1a7KlqHIhaj4%2BoPD82tbfS8uOCS0nq%2B9G8wgnOuztJOi%2BCRcAIfue1xsW3vQUYDLJ8TlX9s5ieZPAcI3MvgLzDfzRkT0QWjEbq2MRZrzEnv2zM8jY3MepkKDtXWwE4aauJTL4d4Tq4Zeljxgsz7%2BH4KYkVBSkczEsQPUQldvmdNQmkGWU2E8nQwXgDVAawjYObLsqqO93cuJiu2qlbPsrR7b%2FfEVNn7b9%2FFRMyvmIG8ZUKvUFAe6iINuUrUd0779KsdgCtBbg6210B4W%2FQjgQ%3D',\n",
    "                    swid='{2C7AFCC4-F961-4FAB-B021-DD728F1DC1E9}')"
   ],
   "id": "853fbe5c8d70d4ba",
   "outputs": [],
   "execution_count": 1
  },
  {
   "metadata": {},
   "cell_type": "code",
   "outputs": [],
   "execution_count": null,
   "source": "",
   "id": "ad8f5086050491e5"
  }
 ],
 "metadata": {
  "kernelspec": {
   "display_name": "Python 3",
   "language": "python",
   "name": "python3"
  },
  "language_info": {
   "codemirror_mode": {
    "name": "ipython",
    "version": 2
   },
   "file_extension": ".py",
   "mimetype": "text/x-python",
   "name": "python",
   "nbconvert_exporter": "python",
   "pygments_lexer": "ipython2",
   "version": "2.7.6"
  }
 },
 "nbformat": 4,
 "nbformat_minor": 5
}
