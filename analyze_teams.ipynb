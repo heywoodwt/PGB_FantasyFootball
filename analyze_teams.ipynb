{
 "cells": [
  {
   "metadata": {
    "ExecuteTime": {
     "end_time": "2024-09-24T02:14:45.126959Z",
     "start_time": "2024-09-24T02:14:43.000266Z"
    }
   },
   "cell_type": "code",
   "source": [
    "import pandas as pd\n",
    "from espn_api.football import League\n",
    "import math\n",
    "\n",
    "# Initialize the league\n",
    "pgb_league = League(league_id=1328496691, year=2024, espn_s2='AEBYECasftI1k7UT5d4A7FbT1EfGRH660hjw%2FclbTqlKTY1a7KlqHIhaj4%2BoPD82tbfS8uOCS0nq%2B9G8wgnOuztJOi%2BCRcAIfue1xsW3vQUYDLJ8TlX9s5ieZPAcI3MvgLzDfzRkT0QWjEbq2MRZrzEnv2zM8jY3MepkKDtXWwE4aauJTL4d4Tq4Zeljxgsz7%2BH4KYkVBSkczEsQPUQldvmdNQmkGWU2E8nQwXgDVAawjYObLsqqO93cuJiu2qlbPsrR7b%2FfEVNn7b9%2FFRMyvmIG8ZUKvUFAe6iINuUrUd0779KsdgCtBbg6210B4W%2FQjgQ%3D', swid='{2C7AFCC4-F961-4FAB-B021-DD728F1DC1E9}')"
   ],
   "id": "ee643db0cf1f1efa",
   "outputs": [],
   "execution_count": 2
  },
  {
   "cell_type": "code",
   "id": "initial_id",
   "metadata": {
    "collapsed": true,
    "ExecuteTime": {
     "end_time": "2024-09-24T02:17:05.580760Z",
     "start_time": "2024-09-24T02:17:05.577859Z"
    }
   },
   "source": [
    "# Function to get the team's data\n",
    "def get_team_data(team):\n",
    "    team_data = {}\n",
    "    team_data['team_name'] = team.team_name\n",
    "    team_data['team_id'] = team.team_id\n",
    "    team_data['team_abbrev'] = team.team_abbrev\n",
    "    team_data['team_wins'] = team.wins\n",
    "    team_data['team_losses'] = team.losses\n",
    "    team_data['team_ties'] = team.ties\n",
    "    team_data['team_points_for'] = team.points_for\n",
    "    team_data['team_points_against'] = team.points_against\n",
    "    team_data['team_points_diff'] = team.points_for - team.points_against\n",
    "    team_data['team_schedule'] = team.schedule\n",
    "    team_data['team_roster'] = team.roster\n",
    "    return team_data"
   ],
   "outputs": [],
   "execution_count": 23
  },
  {
   "metadata": {},
   "cell_type": "markdown",
   "source": "### Laura Shelton (Laura's Team)",
   "id": "848bfa513f1bb93b"
  },
  {
   "metadata": {
    "ExecuteTime": {
     "end_time": "2024-09-24T02:21:38.430438Z",
     "start_time": "2024-09-24T02:21:38.428035Z"
    }
   },
   "cell_type": "code",
   "source": [
    "laura = pgb_league.teams[5]\n",
    "#print(laura)\n",
    "\n",
    "get_team_data(laura)\n",
    "\n",
    "# Calculate PPR for Laura's team\n",
    "laura_roster = laura.roster\n"
   ],
   "id": "b15e6cb23cff422f",
   "outputs": [],
   "execution_count": 27
  }
 ],
 "metadata": {
  "kernelspec": {
   "display_name": "Python 3",
   "language": "python",
   "name": "python3"
  },
  "language_info": {
   "codemirror_mode": {
    "name": "ipython",
    "version": 2
   },
   "file_extension": ".py",
   "mimetype": "text/x-python",
   "name": "python",
   "nbconvert_exporter": "python",
   "pygments_lexer": "ipython2",
   "version": "2.7.6"
  }
 },
 "nbformat": 4,
 "nbformat_minor": 5
}
