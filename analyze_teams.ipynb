{
 "cells": [
  {
   "metadata": {
    "ExecuteTime": {
     "end_time": "2024-09-25T01:27:42.656246Z",
     "start_time": "2024-09-25T01:27:41.328174Z"
    }
   },
   "cell_type": "code",
   "source": [
    "import pandas as pd\n",
    "from espn_api.football import League\n",
    "import math\n",
    "\n",
    "# Initialize the league\n",
    "pgb_league = League(league_id=1328496691, year=2024, espn_s2='AEBYECasftI1k7UT5d4A7FbT1EfGRH660hjw%2FclbTqlKTY1a7KlqHIhaj4%2BoPD82tbfS8uOCS0nq%2B9G8wgnOuztJOi%2BCRcAIfue1xsW3vQUYDLJ8TlX9s5ieZPAcI3MvgLzDfzRkT0QWjEbq2MRZrzEnv2zM8jY3MepkKDtXWwE4aauJTL4d4Tq4Zeljxgsz7%2BH4KYkVBSkczEsQPUQldvmdNQmkGWU2E8nQwXgDVAawjYObLsqqO93cuJiu2qlbPsrR7b%2FfEVNn7b9%2FFRMyvmIG8ZUKvUFAe6iINuUrUd0779KsdgCtBbg6210B4W%2FQjgQ%3D', swid='{2C7AFCC4-F961-4FAB-B021-DD728F1DC1E9}')"
   ],
   "id": "ee643db0cf1f1efa",
   "outputs": [],
   "execution_count": 3
  },
  {
   "cell_type": "code",
   "id": "initial_id",
   "metadata": {
    "collapsed": true,
    "ExecuteTime": {
     "end_time": "2024-09-25T01:29:01.441477Z",
     "start_time": "2024-09-25T01:29:01.438912Z"
    }
   },
   "source": [
    "# Function to get the team's data\n",
    "def get_team_data(team):\n",
    "    team_data = {}\n",
    "    team_data['team_name'] = team.team_name\n",
    "    team_data['team_id'] = team.team_id\n",
    "    team_data['team_abbrev'] = team.team_abbrev\n",
    "    team_data['team_wins'] = team.wins\n",
    "    team_data['team_losses'] = team.losses\n",
    "    team_data['team_ties'] = team.ties\n",
    "    team_data['team_points_for'] = team.points_for\n",
    "    team_data['team_points_against'] = team.points_against\n",
    "    team_data['team_points_diff'] = team.points_for - team.points_against\n",
    "    team_data['team_schedule'] = team.schedule\n",
    "    team_data['team_roster'] = team.roster\n",
    "    return team_data"
   ],
   "outputs": [],
   "execution_count": 6
  },
  {
   "metadata": {},
   "cell_type": "markdown",
   "source": "### Laura Shelton (Laura's Team)",
   "id": "848bfa513f1bb93b"
  },
  {
   "metadata": {},
   "cell_type": "code",
   "outputs": [],
   "execution_count": null,
   "source": "",
   "id": "b0ccaded867c5d91"
  },
  {
   "metadata": {
    "ExecuteTime": {
     "end_time": "2024-09-25T01:29:30.285387Z",
     "start_time": "2024-09-25T01:29:30.236212Z"
    }
   },
   "cell_type": "code",
   "source": [
    "laura = pgb_league.teams[5]\n",
    "#print(laura)\n",
    "\n",
    "get_team_data(laura)\n",
    "\n",
    "# Calculate PPR for Laura's team\n",
    "laura_roster = laura.roster\n",
    "\n",
    "\n"
   ],
   "id": "b15e6cb23cff422f",
   "outputs": [
    {
     "ename": "AttributeError",
     "evalue": "'list' object has no attribute 'head'",
     "output_type": "error",
     "traceback": [
      "\u001B[0;31m---------------------------------------------------------------------------\u001B[0m",
      "\u001B[0;31mAttributeError\u001B[0m                            Traceback (most recent call last)",
      "Cell \u001B[0;32mIn[8], line 9\u001B[0m\n\u001B[1;32m      6\u001B[0m \u001B[38;5;66;03m# Calculate PPR for Laura's team\u001B[39;00m\n\u001B[1;32m      7\u001B[0m laura_roster \u001B[38;5;241m=\u001B[39m laura\u001B[38;5;241m.\u001B[39mroster\n\u001B[0;32m----> 9\u001B[0m \u001B[43mlaura_roster\u001B[49m\u001B[38;5;241;43m.\u001B[39;49m\u001B[43mhead\u001B[49m()\n",
      "\u001B[0;31mAttributeError\u001B[0m: 'list' object has no attribute 'head'"
     ]
    }
   ],
   "execution_count": 8
  },
  {
   "metadata": {
    "ExecuteTime": {
     "end_time": "2024-09-25T01:27:42.688271Z",
     "start_time": "2024-09-25T01:25:31.215037Z"
    }
   },
   "cell_type": "code",
   "source": [
    "import pandas as pd\n",
    "from espn_api.football import League\n",
    "import matplotlib.pyplot as plt\n",
    "import seaborn as sns\n",
    "\n",
    "# Initialize the league\n",
    "pgb_league = League(league_id=1328496691, year=2024, espn_s2='AEBYECasftI1k7UT5d4A7FbT1EfGRH660hjw%2FclbTqlKTY1a7KlqHIhaj4%2BoPD82tbfS8uOCS0nq%2B9G8wgnOuztJOi%2BCRcAIfue1xsW3vQUYDLJ8TlX9s5ieZPAcI3MvgLzDfzRkT0QWjEbq2MRZrzEnv2zM8jY3MepkKDtXWwE4aauJTL4d4Tq4Zeljxgsz7%2BH4KYkVBSkczEsQPUQldvmdNQmkGWU2E8nQwXgDVAawjYObLsqqO93cuJiu2qlbPsrR7b%2FfEVNn7b9%2FFRMyvmIG8ZUKvUFAe6iINuUrUd0779KsdgCtBbg6210B4W%2FQjgQ%3D', swid='{2C7AFCC4-F961-4FAB-B021-DD728F1DC1E9}')\n",
    "\n",
    "# Retrieve all free agents\n",
    "free_agents = pgb_league.free_agents()\n",
    "\n",
    "# Extract relevant stats for each player\n",
    "free_agents_data = []\n",
    "for player in free_agents:\n",
    "    player_data = {\n",
    "        'Team': player.proTeam,\n",
    "        'Margin': player.points - player.projected_points,  # Example calculation for margin\n",
    "        'Type': 'Free Agent'  # Example type\n",
    "    }\n",
    "    free_agents_data.append(player_data)\n",
    "\n",
    "# Create a pandas DataFrame from the extracted data\n",
    "df3 = pd.DataFrame(free_agents_data)\n",
    "\n",
    "# Create the plot\n",
    "fig, ax = plt.subplots(1, 1, figsize=(16, 6))\n",
    "order = [14, 13, 9, 1, 15, 12, 3, 4, 2, 5]\n",
    "sns.boxplot(x='Team', y='Margin', hue='Type', data=df3, palette='muted', order=order)\n",
    "ax.axhline(0, ls='--')\n",
    "ax.set_xlabel('')\n",
    "ax.set_title('Win/Loss margins')\n",
    "plt.show()"
   ],
   "id": "6fb798a4ce2b0262",
   "outputs": [
    {
     "ename": "UnboundLocalError",
     "evalue": "cannot access local variable 'boxprops' where it is not associated with a value",
     "output_type": "error",
     "traceback": [
      "\u001B[0;31m---------------------------------------------------------------------------\u001B[0m",
      "\u001B[0;31mUnboundLocalError\u001B[0m                         Traceback (most recent call last)",
      "Cell \u001B[0;32mIn[1], line 28\u001B[0m\n\u001B[1;32m     26\u001B[0m fig, ax \u001B[38;5;241m=\u001B[39m plt\u001B[38;5;241m.\u001B[39msubplots(\u001B[38;5;241m1\u001B[39m, \u001B[38;5;241m1\u001B[39m, figsize\u001B[38;5;241m=\u001B[39m(\u001B[38;5;241m16\u001B[39m, \u001B[38;5;241m6\u001B[39m))\n\u001B[1;32m     27\u001B[0m order \u001B[38;5;241m=\u001B[39m [\u001B[38;5;241m14\u001B[39m, \u001B[38;5;241m13\u001B[39m, \u001B[38;5;241m9\u001B[39m, \u001B[38;5;241m1\u001B[39m, \u001B[38;5;241m15\u001B[39m, \u001B[38;5;241m12\u001B[39m, \u001B[38;5;241m3\u001B[39m, \u001B[38;5;241m4\u001B[39m, \u001B[38;5;241m2\u001B[39m, \u001B[38;5;241m5\u001B[39m]\n\u001B[0;32m---> 28\u001B[0m \u001B[43msns\u001B[49m\u001B[38;5;241;43m.\u001B[39;49m\u001B[43mboxplot\u001B[49m\u001B[43m(\u001B[49m\u001B[43mx\u001B[49m\u001B[38;5;241;43m=\u001B[39;49m\u001B[38;5;124;43m'\u001B[39;49m\u001B[38;5;124;43mTeam\u001B[39;49m\u001B[38;5;124;43m'\u001B[39;49m\u001B[43m,\u001B[49m\u001B[43m \u001B[49m\u001B[43my\u001B[49m\u001B[38;5;241;43m=\u001B[39;49m\u001B[38;5;124;43m'\u001B[39;49m\u001B[38;5;124;43mMargin\u001B[39;49m\u001B[38;5;124;43m'\u001B[39;49m\u001B[43m,\u001B[49m\u001B[43m \u001B[49m\u001B[43mhue\u001B[49m\u001B[38;5;241;43m=\u001B[39;49m\u001B[38;5;124;43m'\u001B[39;49m\u001B[38;5;124;43mType\u001B[39;49m\u001B[38;5;124;43m'\u001B[39;49m\u001B[43m,\u001B[49m\u001B[43m \u001B[49m\u001B[43mdata\u001B[49m\u001B[38;5;241;43m=\u001B[39;49m\u001B[43mdf3\u001B[49m\u001B[43m,\u001B[49m\u001B[43m \u001B[49m\u001B[43mpalette\u001B[49m\u001B[38;5;241;43m=\u001B[39;49m\u001B[38;5;124;43m'\u001B[39;49m\u001B[38;5;124;43mmuted\u001B[39;49m\u001B[38;5;124;43m'\u001B[39;49m\u001B[43m,\u001B[49m\u001B[43m \u001B[49m\u001B[43morder\u001B[49m\u001B[38;5;241;43m=\u001B[39;49m\u001B[43morder\u001B[49m\u001B[43m)\u001B[49m\n\u001B[1;32m     29\u001B[0m ax\u001B[38;5;241m.\u001B[39maxhline(\u001B[38;5;241m0\u001B[39m, ls\u001B[38;5;241m=\u001B[39m\u001B[38;5;124m'\u001B[39m\u001B[38;5;124m--\u001B[39m\u001B[38;5;124m'\u001B[39m)\n\u001B[1;32m     30\u001B[0m ax\u001B[38;5;241m.\u001B[39mset_xlabel(\u001B[38;5;124m'\u001B[39m\u001B[38;5;124m'\u001B[39m)\n",
      "File \u001B[0;32m/Library/Frameworks/Python.framework/Versions/3.12/lib/python3.12/site-packages/seaborn/categorical.py:1634\u001B[0m, in \u001B[0;36mboxplot\u001B[0;34m(data, x, y, hue, order, hue_order, orient, color, palette, saturation, fill, dodge, width, gap, whis, linecolor, linewidth, fliersize, hue_norm, native_scale, log_scale, formatter, legend, ax, **kwargs)\u001B[0m\n\u001B[1;32m   1627\u001B[0m color \u001B[38;5;241m=\u001B[39m _default_color(\n\u001B[1;32m   1628\u001B[0m     ax\u001B[38;5;241m.\u001B[39mfill_between, hue, color,\n\u001B[1;32m   1629\u001B[0m     {k: v \u001B[38;5;28;01mfor\u001B[39;00m k, v \u001B[38;5;129;01min\u001B[39;00m kwargs\u001B[38;5;241m.\u001B[39mitems() \u001B[38;5;28;01mif\u001B[39;00m k \u001B[38;5;129;01min\u001B[39;00m [\u001B[38;5;124m\"\u001B[39m\u001B[38;5;124mc\u001B[39m\u001B[38;5;124m\"\u001B[39m, \u001B[38;5;124m\"\u001B[39m\u001B[38;5;124mcolor\u001B[39m\u001B[38;5;124m\"\u001B[39m, \u001B[38;5;124m\"\u001B[39m\u001B[38;5;124mfc\u001B[39m\u001B[38;5;124m\"\u001B[39m, \u001B[38;5;124m\"\u001B[39m\u001B[38;5;124mfacecolor\u001B[39m\u001B[38;5;124m\"\u001B[39m]},\n\u001B[1;32m   1630\u001B[0m     saturation\u001B[38;5;241m=\u001B[39msaturation,\n\u001B[1;32m   1631\u001B[0m )\n\u001B[1;32m   1632\u001B[0m linecolor \u001B[38;5;241m=\u001B[39m p\u001B[38;5;241m.\u001B[39m_complement_color(linecolor, color, p\u001B[38;5;241m.\u001B[39m_hue_map)\n\u001B[0;32m-> 1634\u001B[0m \u001B[43mp\u001B[49m\u001B[38;5;241;43m.\u001B[39;49m\u001B[43mplot_boxes\u001B[49m\u001B[43m(\u001B[49m\n\u001B[1;32m   1635\u001B[0m \u001B[43m    \u001B[49m\u001B[43mwidth\u001B[49m\u001B[38;5;241;43m=\u001B[39;49m\u001B[43mwidth\u001B[49m\u001B[43m,\u001B[49m\n\u001B[1;32m   1636\u001B[0m \u001B[43m    \u001B[49m\u001B[43mdodge\u001B[49m\u001B[38;5;241;43m=\u001B[39;49m\u001B[43mdodge\u001B[49m\u001B[43m,\u001B[49m\n\u001B[1;32m   1637\u001B[0m \u001B[43m    \u001B[49m\u001B[43mgap\u001B[49m\u001B[38;5;241;43m=\u001B[39;49m\u001B[43mgap\u001B[49m\u001B[43m,\u001B[49m\n\u001B[1;32m   1638\u001B[0m \u001B[43m    \u001B[49m\u001B[43mfill\u001B[49m\u001B[38;5;241;43m=\u001B[39;49m\u001B[43mfill\u001B[49m\u001B[43m,\u001B[49m\n\u001B[1;32m   1639\u001B[0m \u001B[43m    \u001B[49m\u001B[43mwhis\u001B[49m\u001B[38;5;241;43m=\u001B[39;49m\u001B[43mwhis\u001B[49m\u001B[43m,\u001B[49m\n\u001B[1;32m   1640\u001B[0m \u001B[43m    \u001B[49m\u001B[43mcolor\u001B[49m\u001B[38;5;241;43m=\u001B[39;49m\u001B[43mcolor\u001B[49m\u001B[43m,\u001B[49m\n\u001B[1;32m   1641\u001B[0m \u001B[43m    \u001B[49m\u001B[43mlinecolor\u001B[49m\u001B[38;5;241;43m=\u001B[39;49m\u001B[43mlinecolor\u001B[49m\u001B[43m,\u001B[49m\n\u001B[1;32m   1642\u001B[0m \u001B[43m    \u001B[49m\u001B[43mlinewidth\u001B[49m\u001B[38;5;241;43m=\u001B[39;49m\u001B[43mlinewidth\u001B[49m\u001B[43m,\u001B[49m\n\u001B[1;32m   1643\u001B[0m \u001B[43m    \u001B[49m\u001B[43mfliersize\u001B[49m\u001B[38;5;241;43m=\u001B[39;49m\u001B[43mfliersize\u001B[49m\u001B[43m,\u001B[49m\n\u001B[1;32m   1644\u001B[0m \u001B[43m    \u001B[49m\u001B[43mplot_kws\u001B[49m\u001B[38;5;241;43m=\u001B[39;49m\u001B[43mkwargs\u001B[49m\u001B[43m,\u001B[49m\n\u001B[1;32m   1645\u001B[0m \u001B[43m\u001B[49m\u001B[43m)\u001B[49m\n\u001B[1;32m   1647\u001B[0m p\u001B[38;5;241m.\u001B[39m_add_axis_labels(ax)\n\u001B[1;32m   1648\u001B[0m p\u001B[38;5;241m.\u001B[39m_adjust_cat_axis(ax, axis\u001B[38;5;241m=\u001B[39mp\u001B[38;5;241m.\u001B[39morient)\n",
      "File \u001B[0;32m/Library/Frameworks/Python.framework/Versions/3.12/lib/python3.12/site-packages/seaborn/categorical.py:745\u001B[0m, in \u001B[0;36m_CategoricalPlotter.plot_boxes\u001B[0;34m(self, width, dodge, gap, fill, whis, color, linecolor, linewidth, fliersize, plot_kws)\u001B[0m\n\u001B[1;32m    742\u001B[0m     ax\u001B[38;5;241m.\u001B[39madd_container(BoxPlotContainer(artists))\n\u001B[1;32m    744\u001B[0m legend_artist \u001B[38;5;241m=\u001B[39m _get_patch_legend_artist(fill)\n\u001B[0;32m--> 745\u001B[0m \u001B[38;5;28mself\u001B[39m\u001B[38;5;241m.\u001B[39m_configure_legend(ax, legend_artist, \u001B[43mboxprops\u001B[49m)\n",
      "\u001B[0;31mUnboundLocalError\u001B[0m: cannot access local variable 'boxprops' where it is not associated with a value"
     ]
    },
    {
     "data": {
      "text/plain": [
       "<Figure size 1600x600 with 1 Axes>"
      ],
      "image/png": "[encoded data removed]"
     },
     "metadata": {},
     "output_type": "display_data"
    }
   ],
   "execution_count": 1
  },
  {
   "metadata": {
    "ExecuteTime": {
     "end_time": "2024-09-25T01:27:42.688494Z",
     "start_time": "2024-09-25T01:27:38.374587Z"
    }
   },
   "cell_type": "code",
   "source": [
    "# Calculate PPR for Laura's team\n",
    "laura_roster = laura.roster\n",
    "calculate_ppr(laura_roster)\n",
    "\n"
   ],
   "id": "4719042cf22a369e",
   "outputs": [
    {
     "ename": "NameError",
     "evalue": "name 'laura' is not defined",
     "output_type": "error",
     "traceback": [
      "\u001B[0;31m---------------------------------------------------------------------------\u001B[0m",
      "\u001B[0;31mNameError\u001B[0m                                 Traceback (most recent call last)",
      "Cell \u001B[0;32mIn[2], line 2\u001B[0m\n\u001B[1;32m      1\u001B[0m \u001B[38;5;66;03m# Calculate PPR for Laura's team\u001B[39;00m\n\u001B[0;32m----> 2\u001B[0m laura_roster \u001B[38;5;241m=\u001B[39m \u001B[43mlaura\u001B[49m\u001B[38;5;241m.\u001B[39mroster\n\u001B[1;32m      3\u001B[0m calculate_ppr(laura_roster)\n",
      "\u001B[0;31mNameError\u001B[0m: name 'laura' is not defined"
     ]
    }
   ],
   "execution_count": 2
  }
 ],
 "metadata": {
  "kernelspec": {
   "display_name": "Python 3",
   "language": "python",
   "name": "python3"
  },
  "language_info": {
   "codemirror_mode": {
    "name": "ipython",
    "version": 2
   },
   "file_extension": ".py",
   "mimetype": "text/x-python",
   "name": "python",
   "nbconvert_exporter": "python",
   "pygments_lexer": "ipython2",
   "version": "2.7.6"
  }
 },
 "nbformat": 4,
 "nbformat_minor": 5
}
