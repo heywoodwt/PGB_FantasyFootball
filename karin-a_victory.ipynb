{
 "cells": [
  {
   "cell_type": "code",
   "id": "initial_id",
   "metadata": {
    "collapsed": true,
    "ExecuteTime": {
     "end_time": "2024-09-25T01:57:11.082551Z",
     "start_time": "2024-09-25T01:57:08.937450Z"
    }
   },
   "source": [
    "import pandas as pd\n",
    "from espn_api.football import League\n",
    "\n",
    "def extract_free_agents_data(free_agents, injury_status_values):\n",
    "    free_agents_data = []\n",
    "    for player in free_agents:\n",
    "        injury_status = player.injuryStatus if not isinstance(player.injuryStatus, list) else tuple(player.injuryStatus)\n",
    "        injury_value = injury_status_values.get(injury_status, 1.0)\n",
    "\n",
    "        player_data = {\n",
    "            'Name': player.name,\n",
    "            'Points': player.points,\n",
    "            'Projected': player.projected_points,\n",
    "            'Position': player.position,\n",
    "            'Team': player.proTeam,\n",
    "            'Injury Status': injury_status,\n",
    "            'Eligible Slots': player.eligibleSlots,\n",
    "            'Acquisition Type': player.acquisitionType,\n",
    "            'Injury Value': injury_value\n",
    "        }\n",
    "        free_agents_data.append(player_data)\n",
    "    return pd.DataFrame(free_agents_data)\n",
    "\n",
    "def calculate_ppr_with_value_ratio(df):\n",
    "    df['Value Ratio'] = df['Projected'] / df['Points']\n",
    "    df['PPR'] = (df['Eligible Slots'].apply(lambda x: len(x)) / df['Projected']) * df['Injury Value'] * df['Value Ratio']\n",
    "    return df.sort_values(by='PPR', ascending=False)\n",
    "\n",
    "def calculate_ppr_without_value_ratio(df):\n",
    "    eligible_slots_float = df['Eligible Slots'].apply(lambda x: len(x)).astype(float)\n",
    "    df['PPR'] = ((eligible_slots_float + df['Injury Value']) + ((df['Projected'] - df['Points']) / df['Points']))\n",
    "    return df.sort_values(by='PPR', ascending=False)\n",
    "\n",
    "# Initialize the league\n",
    "pgb_league = League(league_id=1328496691, year=2024, espn_s2='AEBYECasftI1k7UT5d4A7FbT1EfGRH660hjw%2FclbTqlKTY1a7KlqHIhaj4%2BoPD82tbfS8uOCS0nq%2B9G8wgnOuztJOi%2BCRcAIfue1xsW3vQUYDLJ8TlX9s5ieZPAcI3MvgLzDfzRkT0QWjEbq2MRZrzEnv2zM8jY3MepkKDtXWwE4aauJTL4d4Tq4Zeljxgsz7%2BH4KYkVBSkczEsQPUQldvmdNQmkGWU2E8nQwXgDVAawjYObLsqqO93cuJiu2qlbPsrR7b%2FfEVNn7b9%2FFRMyvmIG8ZUKvUFAe6iINuUrUd0779KsdgCtBbg6210B4W%2FQjgQ%3D', swid='{2C7AFCC4-F961-4FAB-B021-DD728F1DC1E9}')\n",
    "\n",
    "# Retrieve all free agents\n",
    "free_agents = pgb_league.free_agents()\n",
    "\n",
    "# Define injury status values\n",
    "injury_status_values = {\n",
    "    'HEALTHY': 1.0,\n",
    "    'DOUBTFUL': 0.75,\n",
    "    'QUESTIONABLE': 0.5,\n",
    "    'INJURY_RESERVE': 0.5,\n",
    "    'OUT': 0.0\n",
    "}\n"
   ],
   "outputs": [],
   "execution_count": 12
  },
  {
   "metadata": {
    "ExecuteTime": {
     "end_time": "2024-09-25T01:51:24.415616Z",
     "start_time": "2024-09-25T01:51:23.159926Z"
    }
   },
   "cell_type": "code",
   "source": [
    "from espn_api.football import League\n",
    "\n",
    "# Initialize the league\n",
    "pgb_league = League(\n",
    "    league_id=1328496691, \n",
    "    year=2024, \n",
    "    espn_s2='AEBYECasftI1k7UT5d4A7FbT1EfGRH660hjw%2FclbTqlKTY1a7KlqHIhaj4%2BoPD82tbfS8uOCS0nq%2B9G8wgnOuztJOi%2BCRcAIfue1xsW3vQUYDLJ8TlX9s5ieZPAcI3MvgLzDfzRkT0QWjEbq2MRZrzEnv2zM8jY3MepkKDtXWwE4aauJTL4d4Tq4Zeljxgsz7%2BH4KYkVBSkczEsQPUQldvmdNQmkGWU2E8nQwXgDVAawjYObLsqqO93cuJiu2qlbPsrR7b%2FfEVNn7b9%2FFRMyvmIG8ZUKvUFAe6iINuUrUd0779KsdgCtBbg6210B4W%2FQjgQ%3D', \n",
    "    swid='{2C7AFCC4-F961-4FAB-B021-DD728F1DC1E9}'\n",
    ")\n",
    "\n",
    "# Retrieve all teams\n",
    "teams = pgb_league.teams\n",
    "\n",
    "# Print team names\n",
    "for team in teams:\n",
    "    print(team.team_name)"
   ],
   "id": "1c4530cd881838b3",
   "outputs": [
    {
     "name": "stdout",
     "output_type": "stream",
     "text": [
      "Kady's Dynasty\n",
      "A, B, CeeDee\n",
      "Karin-A Victory\n",
      "Shake It Off-ense\n",
      "Da Bears\n",
      "Laura's Team\n",
      "Meghan's Motivated Team\n",
      "Mo Touchdowns, Mo Money\n",
      "Michelle's Magnificent Team\n",
      "Producing Wins\n",
      "Heywood Ya Tailgate!\n",
      "Nancerocks \n"
     ]
    }
   ],
   "execution_count": 3
  },
  {
   "metadata": {
    "ExecuteTime": {
     "end_time": "2024-09-25T02:00:26.027288Z",
     "start_time": "2024-09-25T02:00:26.024833Z"
    }
   },
   "cell_type": "code",
   "source": [
    "# Using the API pull player data for  Karin-A Victory\n",
    "karin_a_victory = pgb_league.get_team_data(2)\n",
    "\n",
    "# Print the team's roster\n",
    "for player in karin_a_victory.roster:\n",
    "    print(player)"
   ],
   "id": "f9e94e571bddd648",
   "outputs": [
    {
     "name": "stdout",
     "output_type": "stream",
     "text": [
      "Player(CeeDee Lamb)\n",
      "Player(Kyren Williams)\n",
      "Player(Drake London)\n",
      "Player(Sam LaPorta)\n",
      "Player(Calvin Ridley)\n",
      "Player(James Conner)\n",
      "Player(George Pickens)\n",
      "Player(David Montgomery)\n",
      "Player(Hollywood Brown)\n",
      "Player(Caleb Williams)\n",
      "Player(Khalil Shakir)\n",
      "Player(Justin Fields)\n",
      "Player(Browns D/ST)\n",
      "Player(Josh Downs)\n",
      "Player(Chris Boswell)\n",
      "Player(Kirk Cousins)\n",
      "Player(DeAndre Hopkins)\n"
     ]
    }
   ],
   "execution_count": 13
  },
  {
   "metadata": {
    "ExecuteTime": {
     "end_time": "2024-09-25T02:06:05.804987Z",
     "start_time": "2024-09-25T02:06:05.795508Z"
    }
   },
   "cell_type": "code",
   "source": [
    "# Print the team's positions \n",
    "\n",
    "    \n",
    "# Match the positions to the player names\n",
    "karin_a_victory_roster = []\n",
    "\n",
    "for player in karin_a_victory.roster:\n",
    "    karin_a_victory_roster.append({\n",
    "        'Name': player.name,\n",
    "        'Position': player.position,\n",
    "        'Points': player.points,\n",
    "    })\n",
    "    \n",
    "karin_a_victory_roster_df = pd.DataFrame(karin_a_victory_roster)\n",
    "karin_a_victory_roster_df"
   ],
   "id": "767d0829f3423ad9",
   "outputs": [
    {
     "ename": "AttributeError",
     "evalue": "'Player' object has no attribute 'points'",
     "output_type": "error",
     "traceback": [
      "\u001B[0;31m---------------------------------------------------------------------------\u001B[0m",
      "\u001B[0;31mAttributeError\u001B[0m                            Traceback (most recent call last)",
      "Cell \u001B[0;32mIn[20], line 11\u001B[0m\n\u001B[1;32m      5\u001B[0m karin_a_victory_roster \u001B[38;5;241m=\u001B[39m []\n\u001B[1;32m      7\u001B[0m \u001B[38;5;28;01mfor\u001B[39;00m player \u001B[38;5;129;01min\u001B[39;00m karin_a_victory\u001B[38;5;241m.\u001B[39mroster:\n\u001B[1;32m      8\u001B[0m     karin_a_victory_roster\u001B[38;5;241m.\u001B[39mappend({\n\u001B[1;32m      9\u001B[0m         \u001B[38;5;124m'\u001B[39m\u001B[38;5;124mName\u001B[39m\u001B[38;5;124m'\u001B[39m: player\u001B[38;5;241m.\u001B[39mname,\n\u001B[1;32m     10\u001B[0m         \u001B[38;5;124m'\u001B[39m\u001B[38;5;124mPosition\u001B[39m\u001B[38;5;124m'\u001B[39m: player\u001B[38;5;241m.\u001B[39mposition,\n\u001B[0;32m---> 11\u001B[0m         \u001B[38;5;124m'\u001B[39m\u001B[38;5;124mPoints\u001B[39m\u001B[38;5;124m'\u001B[39m: \u001B[43mplayer\u001B[49m\u001B[38;5;241;43m.\u001B[39;49m\u001B[43mpoints\u001B[49m,\n\u001B[1;32m     12\u001B[0m     })\n\u001B[1;32m     14\u001B[0m karin_a_victory_roster_df \u001B[38;5;241m=\u001B[39m pd\u001B[38;5;241m.\u001B[39mDataFrame(karin_a_victory_roster)\n\u001B[1;32m     15\u001B[0m karin_a_victory_roster_df\n",
      "\u001B[0;31mAttributeError\u001B[0m: 'Player' object has no attribute 'points'"
     ]
    }
   ],
   "execution_count": 20
  },
  {
   "metadata": {
    "ExecuteTime": {
     "end_time": "2024-09-25T02:11:09.956773Z",
     "start_time": "2024-09-25T02:11:09.953702Z"
    }
   },
   "cell_type": "code",
   "source": "pgb_league.power_rankings()",
   "id": "936568cd7e488a0e",
   "outputs": [
    {
     "data": {
      "text/plain": [
       "[('21.00', Team(Producing Wins)),\n",
       " ('19.65', Team(Shake It Off-ense)),\n",
       " ('17.20', Team(Heywood Ya Tailgate!)),\n",
       " ('16.05', Team(Karin-A Victory)),\n",
       " ('15.75', Team(Laura's Team)),\n",
       " ('15.05', Team(Mo Touchdowns, Mo Money)),\n",
       " ('14.40', Team(Da Bears)),\n",
       " ('13.70', Team(Meghan's Motivated Team)),\n",
       " ('12.50', Team(Michelle's Magnificent Team)),\n",
       " ('12.40', Team(Nancerocks )),\n",
       " ('9.85', Team(Kady's Dynasty)),\n",
       " ('9.20', Team(A, B, CeeDee))]"
      ]
     },
     "execution_count": 22,
     "metadata": {},
     "output_type": "execute_result"
    }
   ],
   "execution_count": 22
  }
 ],
 "metadata": {
  "kernelspec": {
   "display_name": "Python 3",
   "language": "python",
   "name": "python3"
  },
  "language_info": {
   "codemirror_mode": {
    "name": "ipython",
    "version": 2
   },
   "file_extension": ".py",
   "mimetype": "text/x-python",
   "name": "python",
   "nbconvert_exporter": "python",
   "pygments_lexer": "ipython2",
   "version": "2.7.6"
  }
 },
 "nbformat": 4,
 "nbformat_minor": 5
}
