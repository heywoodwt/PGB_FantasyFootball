{
 "cells": [
  {
   "cell_type": "code",
   "id": "initial_id",
   "metadata": {
    "collapsed": true,
    "ExecuteTime": {
     "end_time": "2024-09-08T02:00:02.710612Z",
     "start_time": "2024-09-08T01:59:58.361889Z"
    }
   },
   "source": [
    "from datascience import *\n",
    "import numpy as np\n",
    "import matplotlib\n",
    "%matplotlib inline\n",
    "import matplotlib.pyplot as plt\n",
    "plt.style.use('fivethirtyeight')\n",
    "import pandas as pd\n",
    "from espn_api.football import League"
   ],
   "outputs": [],
   "execution_count": 1
  },
  {
   "metadata": {
    "ExecuteTime": {
     "end_time": "2024-09-08T02:00:03.838518Z",
     "start_time": "2024-09-08T02:00:02.717394Z"
    }
   },
   "cell_type": "code",
   "source": [
    "# Init\n",
    "pgb_league = League(league_id=1328496691, year=2024, espn_s2='AEBYECasftI1k7UT5d4A7FbT1EfGRH660hjw%2FclbTqlKTY1a7KlqHIhaj4%2BoPD82tbfS8uOCS0nq%2B9G8wgnOuztJOi%2BCRcAIfue1xsW3vQUYDLJ8TlX9s5ieZPAcI3MvgLzDfzRkT0QWjEbq2MRZrzEnv2zM8jY3MepkKDtXWwE4aauJTL4d4Tq4Zeljxgsz7%2BH4KYkVBSkczEsQPUQldvmdNQmkGWU2E8nQwXgDVAawjYObLsqqO93cuJiu2qlbPsrR7b%2FfEVNn7b9%2FFRMyvmIG8ZUKvUFAe6iINuUrUd0779KsdgCtBbg6210B4W%2FQjgQ%3D', swid='{2C7AFCC4-F961-4FAB-B021-DD728F1DC1E9}')"
   ],
   "id": "e6cbf225ca59cc96",
   "outputs": [],
   "execution_count": 2
  },
  {
   "metadata": {
    "ExecuteTime": {
     "end_time": "2024-09-08T02:00:03.887287Z",
     "start_time": "2024-09-08T02:00:03.884860Z"
    }
   },
   "cell_type": "code",
   "source": "pgb_league.teams",
   "id": "c7c1d05ba75510e9",
   "outputs": [
    {
     "data": {
      "text/plain": [
       "[Team(Kady's Dynasty),\n",
       " Team(A, B, CeeDee),\n",
       " Team(Karin-A Victory),\n",
       " Team(Shake It Off-ense),\n",
       " Team(Da Bears),\n",
       " Team(Laura's Team),\n",
       " Team(Meghan's Motivated Team),\n",
       " Team(Mo Money, Mo Touchdowns),\n",
       " Team(Michelle's Magnificent Team),\n",
       " Team(Producing Wins),\n",
       " Team(Heywood Ya Tailgate!),\n",
       " Team(Nancerocks )]"
      ]
     },
     "execution_count": 3,
     "metadata": {},
     "output_type": "execute_result"
    }
   ],
   "execution_count": 3
  },
  {
   "metadata": {
    "ExecuteTime": {
     "end_time": "2024-09-08T02:00:03.964074Z",
     "start_time": "2024-09-08T02:00:03.962336Z"
    }
   },
   "cell_type": "code",
   "source": "kady = pgb_league.teams[0]",
   "id": "7048ed7f6d9c2f5f",
   "outputs": [],
   "execution_count": 4
  },
  {
   "metadata": {
    "ExecuteTime": {
     "end_time": "2024-09-08T02:00:04.008191Z",
     "start_time": "2024-09-08T02:00:04.006377Z"
    }
   },
   "cell_type": "code",
   "source": [
    "print(kady)\n",
    "\n",
    "kady_roster = kady.roster\n",
    "print(kady_roster)"
   ],
   "id": "d30c012e6f45ac50",
   "outputs": [
    {
     "name": "stdout",
     "output_type": "stream",
     "text": [
      "Team(Kady's Dynasty)\n",
      "[Player(Stefon Diggs), Player(Patrick Mahomes), Player(Austin Ekeler), Player(DJ Moore), Player(Chase Brown), Player(George Kittle), Player(49ers D/ST), Player(Harrison Butker), Player(Julian Hill), Player(Tua Tagovailoa), Player(Darnell Mooney), Player(Khalil Herbert), Player(Xavier Legette), Player(Luke McCaffrey), Player(Miles Sanders), Player(Nick Chubb)]\n"
     ]
    }
   ],
   "execution_count": 5
  },
  {
   "metadata": {},
   "cell_type": "markdown",
   "source": "Free Agents",
   "id": "57934b5847f363df"
  },
  {
   "metadata": {
    "ExecuteTime": {
     "end_time": "2024-09-08T02:00:04.612621Z",
     "start_time": "2024-09-08T02:00:04.060505Z"
    }
   },
   "cell_type": "code",
   "source": "pgb_league.free_agents(size=5)",
   "id": "3c439a29eb0b1c78",
   "outputs": [
    {
     "data": {
      "text/plain": [
       "[Player(Tee Higgins, points:0, projected:0.0),\n",
       " Player(Cole Kmet, points:0, projected:7.16),\n",
       " Player(Bears D/ST, points:0, projected:7.38),\n",
       " Player(Matthew Stafford, points:0, projected:16.24),\n",
       " Player(Vikings D/ST, points:0, projected:7.85)]"
      ]
     },
     "execution_count": 6,
     "metadata": {},
     "output_type": "execute_result"
    }
   ],
   "execution_count": 6
  },
  {
   "metadata": {
    "ExecuteTime": {
     "end_time": "2024-09-08T02:00:05.597869Z",
     "start_time": "2024-09-08T02:00:04.636361Z"
    }
   },
   "cell_type": "code",
   "source": [
    "pgb_league.scoreboard()\n",
    "\n",
    "# Put scoreboard into a pandas dataframe\n",
    "league_scoreboard = pd.DataFrame(pgb_league.scoreboard())\n",
    "print(league_scoreboard)"
   ],
   "id": "dcc291444db80f08",
   "outputs": [
    {
     "name": "stdout",
     "output_type": "stream",
     "text": [
      "                                                   0\n",
      "0   Matchup(Team(Nancerocks ), Team(Producing Wins))\n",
      "1  Matchup(Team(A, B, CeeDee), Team(Heywood Ya Ta...\n",
      "2  Matchup(Team(Da Bears), Team(Mo Money, Mo Touc...\n",
      "3  Matchup(Team(Shake It Off-ense), Team(Laura's ...\n",
      "4  Matchup(Team(Meghan's Motivated Team), Team(Mi...\n",
      "5  Matchup(Team(Kady's Dynasty), Team(Karin-A Vic...\n"
     ]
    }
   ],
   "execution_count": 7
  },
  {
   "metadata": {},
   "cell_type": "markdown",
   "source": "Collect all free agents in order to evaluate them and determine whether they are worth picking up.",
   "id": "903046dc48e88873"
  },
  {
   "metadata": {
    "ExecuteTime": {
     "end_time": "2024-09-08T02:00:06.209822Z",
     "start_time": "2024-09-08T02:00:05.666834Z"
    }
   },
   "cell_type": "code",
   "source": [
    "# Retrieve all free agents\n",
    "free_agents = pgb_league.free_agents()\n",
    "\n",
    "# Extract relevant stats for each player\n",
    "free_agents_data = []\n",
    "for player in free_agents:\n",
    "    player_data = {\n",
    "        'Name': player.name,\n",
    "        'Points': player.points,\n",
    "        'Projected': player.projected_points\n",
    "    }\n",
    "    free_agents_data.append(player_data)\n",
    "\n",
    "# Create a pandas DataFrame from the extracted data\n",
    "free_agents_df = pd.DataFrame(free_agents_data)\n",
    "\n",
    "# Display the DataFrame\n",
    "print(free_agents_df)"
   ],
   "id": "e853d53a568ea172",
   "outputs": [
    {
     "name": "stdout",
     "output_type": "stream",
     "text": [
      "                     Name  Points  Projected\n",
      "0             Tee Higgins     0.0       0.00\n",
      "1               Cole Kmet     0.0       7.16\n",
      "2              Bears D/ST     0.0       7.38\n",
      "3        Matthew Stafford     0.0      16.24\n",
      "4            Vikings D/ST     0.0       7.85\n",
      "5          MarShawn Lloyd     0.0       0.00\n",
      "6                Matt Gay     0.0       0.00\n",
      "7              Bills D/ST     0.0       5.36\n",
      "8            Falcons D/ST     0.0       7.06\n",
      "9           Jason Sanders     0.0       7.70\n",
      "10            Texans D/ST     0.0       5.80\n",
      "11         Dustin Hopkins     0.0       7.78\n",
      "12          Juwan Johnson     0.0       8.19\n",
      "13            Eagles D/ST     0.0       4.85\n",
      "14             Geno Smith     0.0      17.20\n",
      "15          Kendre Miller     0.0       0.00\n",
      "16                 Bo Nix     0.0      13.09\n",
      "17             Tyler Bass     0.0       8.04\n",
      "18       Tyrone Tracy Jr.     0.0       3.99\n",
      "19           Hunter Henry     0.0       7.19\n",
      "20            Bryce Young     0.0      13.45\n",
      "21             Josh Downs     0.0       0.00\n",
      "22          Chargers D/ST     0.0       6.38\n",
      "23             Will Levis     0.0      14.60\n",
      "24        Marvin Mims Jr.     0.0       6.50\n",
      "25          Isaiah Likely    26.1       4.96\n",
      "26          Luke Musgrave     0.0       5.84\n",
      "27  Clyde Edwards-Helaire     0.0       0.00\n",
      "28             Tyler Boyd     0.0       7.08\n",
      "29          Braelon Allen     0.0       3.02\n",
      "30            Dalvin Cook     0.0       0.00\n",
      "31             Cade Otton     0.0       7.60\n",
      "32            Jalin Hyatt     0.0       7.36\n",
      "33             Tre Tucker     0.0       6.60\n",
      "34           Daniel Jones     0.0      16.72\n",
      "35         Rashod Bateman     7.3       7.42\n",
      "36        Jamaal Williams     0.0       5.71\n",
      "37              Noah Fant     0.0       6.57\n",
      "38           Jahan Dotson     0.0       3.46\n",
      "39        Buccaneers D/ST     0.0       6.74\n",
      "40        Keaton Mitchell     0.0       0.00\n",
      "41       Chase McLaughlin     0.0       8.12\n",
      "42          Justin Fields     0.0       0.00\n",
      "43           Packers D/ST     4.0       4.86\n",
      "44           DJ Chark Jr.     0.0       0.00\n",
      "45         Andrei Iosivas     0.0      10.08\n",
      "46         Russell Wilson     0.0      15.07\n",
      "47          Jalen Tolbert     0.0       6.69\n",
      "48            Ben Sinnott     0.0       4.21\n",
      "49          Samaje Perine     2.0       4.30\n"
     ]
    }
   ],
   "execution_count": 8
  },
  {
   "metadata": {
    "ExecuteTime": {
     "end_time": "2024-09-08T02:00:06.841789Z",
     "start_time": "2024-09-08T02:00:06.220513Z"
    }
   },
   "cell_type": "code",
   "source": [
    "free_agents = pgb_league.free_agents()\n",
    "\n",
    "# Extract relevant stats for each player\n",
    "free_agents_data = []\n",
    "for player in free_agents:\n",
    "    player_data = {\n",
    "        'Name': player.name,\n",
    "        'Points': player.points,\n",
    "        'Projected': player.projected_points\n",
    "    }\n",
    "    free_agents_data.append(player_data)\n",
    "\n",
    "# Create a pandas DataFrame from the extracted data\n",
    "free_agents_df = pd.DataFrame(free_agents_data)\n",
    "\n",
    "# Sort the DataFrame by 'Projected' points in descending order\n",
    "free_agents_df = free_agents_df.sort_values(by='Projected', ascending=False)\n",
    "\n",
    "# Display the DataFrame\n",
    "print(free_agents_df)"
   ],
   "id": "9c4e92a9c990ed8d",
   "outputs": [
    {
     "name": "stdout",
     "output_type": "stream",
     "text": [
      "                     Name  Points  Projected\n",
      "14             Geno Smith     0.0      17.20\n",
      "34           Daniel Jones     0.0      16.72\n",
      "3        Matthew Stafford     0.0      16.24\n",
      "46         Russell Wilson     0.0      15.07\n",
      "23             Will Levis     0.0      14.60\n",
      "20            Bryce Young     0.0      13.45\n",
      "16                 Bo Nix     0.0      13.09\n",
      "45         Andrei Iosivas     0.0      10.08\n",
      "12          Juwan Johnson     0.0       8.19\n",
      "41       Chase McLaughlin     0.0       8.12\n",
      "17             Tyler Bass     0.0       8.04\n",
      "4            Vikings D/ST     0.0       7.85\n",
      "11         Dustin Hopkins     0.0       7.78\n",
      "9           Jason Sanders     0.0       7.70\n",
      "31             Cade Otton     0.0       7.60\n",
      "35         Rashod Bateman     7.3       7.42\n",
      "2              Bears D/ST     0.0       7.38\n",
      "32            Jalin Hyatt     0.0       7.36\n",
      "19           Hunter Henry     0.0       7.19\n",
      "1               Cole Kmet     0.0       7.16\n",
      "28             Tyler Boyd     0.0       7.08\n",
      "8            Falcons D/ST     0.0       7.06\n",
      "39        Buccaneers D/ST     0.0       6.74\n",
      "47          Jalen Tolbert     0.0       6.69\n",
      "33             Tre Tucker     0.0       6.60\n",
      "37              Noah Fant     0.0       6.57\n",
      "24        Marvin Mims Jr.     0.0       6.50\n",
      "22          Chargers D/ST     0.0       6.38\n",
      "26          Luke Musgrave     0.0       5.84\n",
      "10            Texans D/ST     0.0       5.80\n",
      "36        Jamaal Williams     0.0       5.71\n",
      "7              Bills D/ST     0.0       5.36\n",
      "25          Isaiah Likely    26.1       4.96\n",
      "43           Packers D/ST     4.0       4.86\n",
      "13            Eagles D/ST     0.0       4.85\n",
      "49          Samaje Perine     2.0       4.30\n",
      "48            Ben Sinnott     0.0       4.21\n",
      "18       Tyrone Tracy Jr.     0.0       3.99\n",
      "38           Jahan Dotson     0.0       3.46\n",
      "29          Braelon Allen     0.0       3.02\n",
      "30            Dalvin Cook     0.0       0.00\n",
      "27  Clyde Edwards-Helaire     0.0       0.00\n",
      "40        Keaton Mitchell     0.0       0.00\n",
      "21             Josh Downs     0.0       0.00\n",
      "42          Justin Fields     0.0       0.00\n",
      "44           DJ Chark Jr.     0.0       0.00\n",
      "15          Kendre Miller     0.0       0.00\n",
      "6                Matt Gay     0.0       0.00\n",
      "5          MarShawn Lloyd     0.0       0.00\n",
      "0             Tee Higgins     0.0       0.00\n"
     ]
    }
   ],
   "execution_count": 9
  },
  {
   "metadata": {
    "ExecuteTime": {
     "end_time": "2024-09-08T02:00:07.559026Z",
     "start_time": "2024-09-08T02:00:06.850651Z"
    }
   },
   "cell_type": "code",
   "source": [
    "free_agents = pgb_league.free_agents()\n",
    "\n",
    "# Extract relevant stats for each player\n",
    "free_agents_data = []\n",
    "for player in free_agents:\n",
    "    player_data = {\n",
    "        'Name': player.name,\n",
    "        'Points': player.points,\n",
    "        'Projected': player.projected_points,\n",
    "        'Position': player.position,\n",
    "        'Team': player.proTeam,\n",
    "        'Injury Status': player.injuryStatus,\n",
    "        'Eligible Slots': player.eligibleSlots,\n",
    "        'Acquisition Type': player.acquisitionType\n",
    "    }\n",
    "    free_agents_data.append(player_data)\n",
    "\n",
    "# Create a pandas DataFrame from the extracted data\n",
    "free_agents_df = pd.DataFrame(free_agents_data)\n",
    "\n",
    "# Display the DataFrame\n",
    "print(free_agents_df)"
   ],
   "id": "e88a5ac14f483ab9",
   "outputs": [
    {
     "name": "stdout",
     "output_type": "stream",
     "text": [
      "                     Name  Points  Projected Position Team   Injury Status  \\\n",
      "0             Tee Higgins     0.0       0.00       WR  CIN        DOUBTFUL   \n",
      "1               Cole Kmet     0.0       7.16       TE  CHI          ACTIVE   \n",
      "2              Bears D/ST     0.0       7.38     D/ST  CHI              []   \n",
      "3        Matthew Stafford     0.0      16.24       QB  LAR          ACTIVE   \n",
      "4            Vikings D/ST     0.0       7.85     D/ST  MIN              []   \n",
      "5          MarShawn Lloyd     0.0       0.00       RB   GB             OUT   \n",
      "6                Matt Gay     0.0       0.00        K  IND    QUESTIONABLE   \n",
      "7              Bills D/ST     0.0       5.36     D/ST  BUF              []   \n",
      "8            Falcons D/ST     0.0       7.06     D/ST  ATL              []   \n",
      "9           Jason Sanders     0.0       7.70        K  MIA          ACTIVE   \n",
      "10            Texans D/ST     0.0       5.80     D/ST  HOU              []   \n",
      "11         Dustin Hopkins     0.0       7.78        K  CLE          ACTIVE   \n",
      "12          Juwan Johnson     0.0       8.19       TE   NO          ACTIVE   \n",
      "13            Eagles D/ST     0.0       4.85     D/ST  PHI              []   \n",
      "14             Geno Smith     0.0      17.20       QB  SEA          ACTIVE   \n",
      "15          Kendre Miller     0.0       0.00       RB   NO  INJURY_RESERVE   \n",
      "16                 Bo Nix     0.0      13.09       QB  DEN          ACTIVE   \n",
      "17             Tyler Bass     0.0       8.04        K  BUF          ACTIVE   \n",
      "18       Tyrone Tracy Jr.     0.0       3.99       RB  NYG          ACTIVE   \n",
      "19           Hunter Henry     0.0       7.19       TE   NE          ACTIVE   \n",
      "20            Bryce Young     0.0      13.45       QB  CAR          ACTIVE   \n",
      "21             Josh Downs     0.0       0.00       WR  IND             OUT   \n",
      "22          Chargers D/ST     0.0       6.38     D/ST  LAC              []   \n",
      "23             Will Levis     0.0      14.60       QB  TEN          ACTIVE   \n",
      "24        Marvin Mims Jr.     0.0       6.50       WR  DEN          ACTIVE   \n",
      "25          Isaiah Likely    26.1       4.96       TE  BAL          ACTIVE   \n",
      "26          Luke Musgrave     0.0       5.84       TE   GB          ACTIVE   \n",
      "27  Clyde Edwards-Helaire     0.0       0.00       RB   KC             OUT   \n",
      "28             Tyler Boyd     0.0       7.08       WR  TEN          ACTIVE   \n",
      "29          Braelon Allen     0.0       3.02       RB  NYJ          ACTIVE   \n",
      "30            Dalvin Cook     0.0       0.00       RB  DAL          ACTIVE   \n",
      "31             Cade Otton     0.0       7.60       TE   TB          ACTIVE   \n",
      "32            Jalin Hyatt     0.0       7.36       WR  NYG          ACTIVE   \n",
      "33             Tre Tucker     0.0       6.60       WR   LV          ACTIVE   \n",
      "34           Daniel Jones     0.0      16.72       QB  NYG          ACTIVE   \n",
      "35         Rashod Bateman     7.3       7.42       WR  BAL          ACTIVE   \n",
      "36        Jamaal Williams     0.0       5.71       RB   NO          ACTIVE   \n",
      "37              Noah Fant     0.0       6.57       TE  SEA          ACTIVE   \n",
      "38           Jahan Dotson     0.0       3.46       WR  PHI          ACTIVE   \n",
      "39        Buccaneers D/ST     0.0       6.74     D/ST   TB              []   \n",
      "40        Keaton Mitchell     0.0       0.00       RB  BAL             OUT   \n",
      "41       Chase McLaughlin     0.0       8.12        K   TB          ACTIVE   \n",
      "42          Justin Fields     0.0       0.00       QB  PIT          ACTIVE   \n",
      "43           Packers D/ST     4.0       4.86     D/ST   GB              []   \n",
      "44           DJ Chark Jr.     0.0       0.00       WR  LAC  INJURY_RESERVE   \n",
      "45         Andrei Iosivas     0.0      10.08       WR  CIN          ACTIVE   \n",
      "46         Russell Wilson     0.0      15.07       QB  PIT    QUESTIONABLE   \n",
      "47          Jalen Tolbert     0.0       6.69       WR  DAL          ACTIVE   \n",
      "48            Ben Sinnott     0.0       4.21       TE  WSH          ACTIVE   \n",
      "49          Samaje Perine     2.0       4.30       RB   KC          ACTIVE   \n",
      "\n",
      "                               Eligible Slots Acquisition Type  \n",
      "0    [RB/WR, WR, WR/TE, RB/WR/TE, OP, BE, IR]               []  \n",
      "1           [WR/TE, TE, RB/WR/TE, OP, BE, IR]               []  \n",
      "2                              [D/ST, BE, IR]               []  \n",
      "3                            [QB, OP, BE, IR]               []  \n",
      "4                              [D/ST, BE, IR]               []  \n",
      "5   [Rookie, RB, RB/WR, RB/WR/TE, OP, BE, IR]               []  \n",
      "6                                 [K, BE, IR]               []  \n",
      "7                              [D/ST, BE, IR]               []  \n",
      "8                              [D/ST, BE, IR]               []  \n",
      "9                                 [K, BE, IR]               []  \n",
      "10                             [D/ST, BE, IR]               []  \n",
      "11                                [K, BE, IR]               []  \n",
      "12          [WR/TE, TE, RB/WR/TE, OP, BE, IR]               []  \n",
      "13                             [D/ST, BE, IR]               []  \n",
      "14                           [QB, OP, BE, IR]               []  \n",
      "15          [RB, RB/WR, RB/WR/TE, OP, BE, IR]               []  \n",
      "16                   [Rookie, QB, OP, BE, IR]               []  \n",
      "17                                [K, BE, IR]               []  \n",
      "18  [Rookie, RB, RB/WR, RB/WR/TE, OP, BE, IR]               []  \n",
      "19          [WR/TE, TE, RB/WR/TE, OP, BE, IR]               []  \n",
      "20                           [QB, OP, BE, IR]               []  \n",
      "21   [RB/WR, WR, WR/TE, RB/WR/TE, OP, BE, IR]               []  \n",
      "22                             [D/ST, BE, IR]               []  \n",
      "23                           [QB, OP, BE, IR]               []  \n",
      "24   [RB/WR, WR, WR/TE, RB/WR/TE, OP, BE, IR]               []  \n",
      "25          [WR/TE, TE, RB/WR/TE, OP, BE, IR]               []  \n",
      "26          [WR/TE, TE, RB/WR/TE, OP, BE, IR]               []  \n",
      "27          [RB, RB/WR, RB/WR/TE, OP, BE, IR]               []  \n",
      "28   [RB/WR, WR, WR/TE, RB/WR/TE, OP, BE, IR]               []  \n",
      "29  [Rookie, RB, RB/WR, RB/WR/TE, OP, BE, IR]               []  \n",
      "30          [RB, RB/WR, RB/WR/TE, OP, BE, IR]               []  \n",
      "31          [WR/TE, TE, RB/WR/TE, OP, BE, IR]               []  \n",
      "32   [RB/WR, WR, WR/TE, RB/WR/TE, OP, BE, IR]               []  \n",
      "33   [RB/WR, WR, WR/TE, RB/WR/TE, OP, BE, IR]               []  \n",
      "34                           [QB, OP, BE, IR]               []  \n",
      "35   [RB/WR, WR, WR/TE, RB/WR/TE, OP, BE, IR]               []  \n",
      "36          [RB, RB/WR, RB/WR/TE, OP, BE, IR]               []  \n",
      "37          [WR/TE, TE, RB/WR/TE, OP, BE, IR]               []  \n",
      "38   [RB/WR, WR, WR/TE, RB/WR/TE, OP, BE, IR]               []  \n",
      "39                             [D/ST, BE, IR]               []  \n",
      "40          [RB, RB/WR, RB/WR/TE, OP, BE, IR]               []  \n",
      "41                                [K, BE, IR]               []  \n",
      "42                           [QB, OP, BE, IR]               []  \n",
      "43                             [D/ST, BE, IR]               []  \n",
      "44   [RB/WR, WR, WR/TE, RB/WR/TE, OP, BE, IR]               []  \n",
      "45   [RB/WR, WR, WR/TE, RB/WR/TE, OP, BE, IR]               []  \n",
      "46                           [QB, OP, BE, IR]               []  \n",
      "47   [RB/WR, WR, WR/TE, RB/WR/TE, OP, BE, IR]               []  \n",
      "48  [Rookie, WR/TE, TE, RB/WR/TE, OP, BE, IR]               []  \n",
      "49          [RB, RB/WR, RB/WR/TE, OP, BE, IR]               []  \n"
     ]
    }
   ],
   "execution_count": 10
  },
  {
   "metadata": {
    "ExecuteTime": {
     "end_time": "2024-09-08T02:00:07.584596Z",
     "start_time": "2024-09-08T02:00:07.577093Z"
    }
   },
   "cell_type": "code",
   "source": [
    "# Add a new column for the ratio of eligible positions to projected points\n",
    "free_agents_df['PPR'] = free_agents_df['Eligible Slots'].apply(len) / free_agents_df['Projected']\n",
    "\n",
    "# Sort the DataFrame by the new ratio column in descending order\n",
    "sorted_free_agents_df = free_agents_df.sort_values(by='PPR', ascending=False)\n",
    "\n",
    "# Display the sorted DataFrame\n",
    "print(sorted_free_agents_df)"
   ],
   "id": "4a6aff5ce3f83ca0",
   "outputs": [
    {
     "name": "stdout",
     "output_type": "stream",
     "text": [
      "                     Name  Points  Projected Position Team   Injury Status  \\\n",
      "0             Tee Higgins     0.0       0.00       WR  CIN        DOUBTFUL   \n",
      "15          Kendre Miller     0.0       0.00       RB   NO  INJURY_RESERVE   \n",
      "44           DJ Chark Jr.     0.0       0.00       WR  LAC  INJURY_RESERVE   \n",
      "42          Justin Fields     0.0       0.00       QB  PIT          ACTIVE   \n",
      "5          MarShawn Lloyd     0.0       0.00       RB   GB             OUT   \n",
      "6                Matt Gay     0.0       0.00        K  IND    QUESTIONABLE   \n",
      "40        Keaton Mitchell     0.0       0.00       RB  BAL             OUT   \n",
      "30            Dalvin Cook     0.0       0.00       RB  DAL          ACTIVE   \n",
      "27  Clyde Edwards-Helaire     0.0       0.00       RB   KC             OUT   \n",
      "21             Josh Downs     0.0       0.00       WR  IND             OUT   \n",
      "29          Braelon Allen     0.0       3.02       RB  NYJ          ACTIVE   \n",
      "38           Jahan Dotson     0.0       3.46       WR  PHI          ACTIVE   \n",
      "18       Tyrone Tracy Jr.     0.0       3.99       RB  NYG          ACTIVE   \n",
      "48            Ben Sinnott     0.0       4.21       TE  WSH          ACTIVE   \n",
      "49          Samaje Perine     2.0       4.30       RB   KC          ACTIVE   \n",
      "25          Isaiah Likely    26.1       4.96       TE  BAL          ACTIVE   \n",
      "24        Marvin Mims Jr.     0.0       6.50       WR  DEN          ACTIVE   \n",
      "33             Tre Tucker     0.0       6.60       WR   LV          ACTIVE   \n",
      "36        Jamaal Williams     0.0       5.71       RB   NO          ACTIVE   \n",
      "47          Jalen Tolbert     0.0       6.69       WR  DAL          ACTIVE   \n",
      "26          Luke Musgrave     0.0       5.84       TE   GB          ACTIVE   \n",
      "28             Tyler Boyd     0.0       7.08       WR  TEN          ACTIVE   \n",
      "32            Jalin Hyatt     0.0       7.36       WR  NYG          ACTIVE   \n",
      "35         Rashod Bateman     7.3       7.42       WR  BAL          ACTIVE   \n",
      "37              Noah Fant     0.0       6.57       TE  SEA          ACTIVE   \n",
      "1               Cole Kmet     0.0       7.16       TE  CHI          ACTIVE   \n",
      "19           Hunter Henry     0.0       7.19       TE   NE          ACTIVE   \n",
      "31             Cade Otton     0.0       7.60       TE   TB          ACTIVE   \n",
      "12          Juwan Johnson     0.0       8.19       TE   NO          ACTIVE   \n",
      "45         Andrei Iosivas     0.0      10.08       WR  CIN          ACTIVE   \n",
      "13            Eagles D/ST     0.0       4.85     D/ST  PHI              []   \n",
      "43           Packers D/ST     4.0       4.86     D/ST   GB              []   \n",
      "7              Bills D/ST     0.0       5.36     D/ST  BUF              []   \n",
      "10            Texans D/ST     0.0       5.80     D/ST  HOU              []   \n",
      "22          Chargers D/ST     0.0       6.38     D/ST  LAC              []   \n",
      "39        Buccaneers D/ST     0.0       6.74     D/ST   TB              []   \n",
      "8            Falcons D/ST     0.0       7.06     D/ST  ATL              []   \n",
      "2              Bears D/ST     0.0       7.38     D/ST  CHI              []   \n",
      "9           Jason Sanders     0.0       7.70        K  MIA          ACTIVE   \n",
      "11         Dustin Hopkins     0.0       7.78        K  CLE          ACTIVE   \n",
      "4            Vikings D/ST     0.0       7.85     D/ST  MIN              []   \n",
      "16                 Bo Nix     0.0      13.09       QB  DEN          ACTIVE   \n",
      "17             Tyler Bass     0.0       8.04        K  BUF          ACTIVE   \n",
      "41       Chase McLaughlin     0.0       8.12        K   TB          ACTIVE   \n",
      "20            Bryce Young     0.0      13.45       QB  CAR          ACTIVE   \n",
      "23             Will Levis     0.0      14.60       QB  TEN          ACTIVE   \n",
      "46         Russell Wilson     0.0      15.07       QB  PIT    QUESTIONABLE   \n",
      "3        Matthew Stafford     0.0      16.24       QB  LAR          ACTIVE   \n",
      "34           Daniel Jones     0.0      16.72       QB  NYG          ACTIVE   \n",
      "14             Geno Smith     0.0      17.20       QB  SEA          ACTIVE   \n",
      "\n",
      "                               Eligible Slots Acquisition Type       PPR  \n",
      "0    [RB/WR, WR, WR/TE, RB/WR/TE, OP, BE, IR]               []       inf  \n",
      "15          [RB, RB/WR, RB/WR/TE, OP, BE, IR]               []       inf  \n",
      "44   [RB/WR, WR, WR/TE, RB/WR/TE, OP, BE, IR]               []       inf  \n",
      "42                           [QB, OP, BE, IR]               []       inf  \n",
      "5   [Rookie, RB, RB/WR, RB/WR/TE, OP, BE, IR]               []       inf  \n",
      "6                                 [K, BE, IR]               []       inf  \n",
      "40          [RB, RB/WR, RB/WR/TE, OP, BE, IR]               []       inf  \n",
      "30          [RB, RB/WR, RB/WR/TE, OP, BE, IR]               []       inf  \n",
      "27          [RB, RB/WR, RB/WR/TE, OP, BE, IR]               []       inf  \n",
      "21   [RB/WR, WR, WR/TE, RB/WR/TE, OP, BE, IR]               []       inf  \n",
      "29  [Rookie, RB, RB/WR, RB/WR/TE, OP, BE, IR]               []  2.317881  \n",
      "38   [RB/WR, WR, WR/TE, RB/WR/TE, OP, BE, IR]               []  2.023121  \n",
      "18  [Rookie, RB, RB/WR, RB/WR/TE, OP, BE, IR]               []  1.754386  \n",
      "48  [Rookie, WR/TE, TE, RB/WR/TE, OP, BE, IR]               []  1.662708  \n",
      "49          [RB, RB/WR, RB/WR/TE, OP, BE, IR]               []  1.395349  \n",
      "25          [WR/TE, TE, RB/WR/TE, OP, BE, IR]               []  1.209677  \n",
      "24   [RB/WR, WR, WR/TE, RB/WR/TE, OP, BE, IR]               []  1.076923  \n",
      "33   [RB/WR, WR, WR/TE, RB/WR/TE, OP, BE, IR]               []  1.060606  \n",
      "36          [RB, RB/WR, RB/WR/TE, OP, BE, IR]               []  1.050788  \n",
      "47   [RB/WR, WR, WR/TE, RB/WR/TE, OP, BE, IR]               []  1.046338  \n",
      "26          [WR/TE, TE, RB/WR/TE, OP, BE, IR]               []  1.027397  \n",
      "28   [RB/WR, WR, WR/TE, RB/WR/TE, OP, BE, IR]               []  0.988701  \n",
      "32   [RB/WR, WR, WR/TE, RB/WR/TE, OP, BE, IR]               []  0.951087  \n",
      "35   [RB/WR, WR, WR/TE, RB/WR/TE, OP, BE, IR]               []  0.943396  \n",
      "37          [WR/TE, TE, RB/WR/TE, OP, BE, IR]               []  0.913242  \n",
      "1           [WR/TE, TE, RB/WR/TE, OP, BE, IR]               []  0.837989  \n",
      "19          [WR/TE, TE, RB/WR/TE, OP, BE, IR]               []  0.834492  \n",
      "31          [WR/TE, TE, RB/WR/TE, OP, BE, IR]               []  0.789474  \n",
      "12          [WR/TE, TE, RB/WR/TE, OP, BE, IR]               []  0.732601  \n",
      "45   [RB/WR, WR, WR/TE, RB/WR/TE, OP, BE, IR]               []  0.694444  \n",
      "13                             [D/ST, BE, IR]               []  0.618557  \n",
      "43                             [D/ST, BE, IR]               []  0.617284  \n",
      "7                              [D/ST, BE, IR]               []  0.559701  \n",
      "10                             [D/ST, BE, IR]               []  0.517241  \n",
      "22                             [D/ST, BE, IR]               []  0.470219  \n",
      "39                             [D/ST, BE, IR]               []  0.445104  \n",
      "8                              [D/ST, BE, IR]               []  0.424929  \n",
      "2                              [D/ST, BE, IR]               []  0.406504  \n",
      "9                                 [K, BE, IR]               []  0.389610  \n",
      "11                                [K, BE, IR]               []  0.385604  \n",
      "4                              [D/ST, BE, IR]               []  0.382166  \n",
      "16                   [Rookie, QB, OP, BE, IR]               []  0.381971  \n",
      "17                                [K, BE, IR]               []  0.373134  \n",
      "41                                [K, BE, IR]               []  0.369458  \n",
      "20                           [QB, OP, BE, IR]               []  0.297398  \n",
      "23                           [QB, OP, BE, IR]               []  0.273973  \n",
      "46                           [QB, OP, BE, IR]               []  0.265428  \n",
      "3                            [QB, OP, BE, IR]               []  0.246305  \n",
      "34                           [QB, OP, BE, IR]               []  0.239234  \n",
      "14                           [QB, OP, BE, IR]               []  0.232558  \n"
     ]
    }
   ],
   "execution_count": 11
  },
  {
   "metadata": {},
   "cell_type": "markdown",
   "source": "Position to Projected Ratio or PPR is the ratio of the number of eligible positions to the projected points of a player. This ratio can be used to identify players who are eligible for multiple positions and have a high projected score. Such players can be valuable additions to a fantasy football team as they provide flexibility in terms of lineup selection and can contribute significantly to the team's overall performance.",
   "id": "85711ebc72180065"
  },
  {
   "metadata": {
    "ExecuteTime": {
     "end_time": "2024-09-08T02:00:07.732689Z",
     "start_time": "2024-09-08T02:00:07.604628Z"
    }
   },
   "cell_type": "code",
   "source": [
    "# Define injury status values\n",
    "injury_status_values = {\n",
    "    'HEALTHY': 1.0,\n",
    "    'DOUBTFUL': 0.75,\n",
    "    'QUESTIONABLE': 0.5,\n",
    "    'INJURY_RESERVE': 0.5,\n",
    "    'OUT': 0.0\n",
    "}\n",
    "\n",
    "# Extract relevant stats for each player\n",
    "free_agents_data = []\n",
    "for player in free_agents:\n",
    "    player_data = {\n",
    "        'Name': player.name,\n",
    "        'Points': player.points,\n",
    "        'Projected': player.projected_points,\n",
    "        'Position': player.position,\n",
    "        'Team': player.proTeam,\n",
    "        'Injury Status': player.injuryStatus,\n",
    "        'Eligible Slots': player.eligibleSlots,\n",
    "        'Acquisition Type': player.acquisitionType,\n",
    "        'Injury Value': injury_status_values.get(player.injuryStatus, 1.0)  \n",
    "        # Default to 1.0 if status is not found\n",
    "    }\n",
    "    free_agents_data.append(player_data)\n",
    "\n",
    "# Create a pandas DataFrame from the extracted data\n",
    "free_agents_df = pd.DataFrame(free_agents_data)\n",
    "\n",
    "# Add a new column for the ratio of eligible positions to projected points, factoring in injury status\n",
    "free_agents_df['PPR'] = (free_agents_df['Eligible Slots'].apply(len) / free_agents_df['Projected']) * free_agents_df['Injury Value']\n",
    "\n",
    "# Sort the DataFrame by the new ratio column in descending order\n",
    "sorted_free_agents_df = free_agents_df.sort_values(by='PPR', ascending=False)\n",
    "\n",
    "# Display the sorted DataFrame\n",
    "print(sorted_free_agents_df)"
   ],
   "id": "341550d5915b56d1",
   "outputs": [
    {
     "ename": "TypeError",
     "evalue": "unhashable type: 'list'",
     "output_type": "error",
     "traceback": [
      "\u001B[0;31m---------------------------------------------------------------------------\u001B[0m",
      "\u001B[0;31mTypeError\u001B[0m                                 Traceback (most recent call last)",
      "Cell \u001B[0;32mIn[12], line 22\u001B[0m\n\u001B[1;32m     11\u001B[0m free_agents_data \u001B[38;5;241m=\u001B[39m []\n\u001B[1;32m     12\u001B[0m \u001B[38;5;28;01mfor\u001B[39;00m player \u001B[38;5;129;01min\u001B[39;00m free_agents:\n\u001B[1;32m     13\u001B[0m     player_data \u001B[38;5;241m=\u001B[39m {\n\u001B[1;32m     14\u001B[0m         \u001B[38;5;124m'\u001B[39m\u001B[38;5;124mName\u001B[39m\u001B[38;5;124m'\u001B[39m: player\u001B[38;5;241m.\u001B[39mname,\n\u001B[1;32m     15\u001B[0m         \u001B[38;5;124m'\u001B[39m\u001B[38;5;124mPoints\u001B[39m\u001B[38;5;124m'\u001B[39m: player\u001B[38;5;241m.\u001B[39mpoints,\n\u001B[1;32m     16\u001B[0m         \u001B[38;5;124m'\u001B[39m\u001B[38;5;124mProjected\u001B[39m\u001B[38;5;124m'\u001B[39m: player\u001B[38;5;241m.\u001B[39mprojected_points,\n\u001B[1;32m     17\u001B[0m         \u001B[38;5;124m'\u001B[39m\u001B[38;5;124mPosition\u001B[39m\u001B[38;5;124m'\u001B[39m: player\u001B[38;5;241m.\u001B[39mposition,\n\u001B[1;32m     18\u001B[0m         \u001B[38;5;124m'\u001B[39m\u001B[38;5;124mTeam\u001B[39m\u001B[38;5;124m'\u001B[39m: player\u001B[38;5;241m.\u001B[39mproTeam,\n\u001B[1;32m     19\u001B[0m         \u001B[38;5;124m'\u001B[39m\u001B[38;5;124mInjury Status\u001B[39m\u001B[38;5;124m'\u001B[39m: player\u001B[38;5;241m.\u001B[39minjuryStatus,\n\u001B[1;32m     20\u001B[0m         \u001B[38;5;124m'\u001B[39m\u001B[38;5;124mEligible Slots\u001B[39m\u001B[38;5;124m'\u001B[39m: player\u001B[38;5;241m.\u001B[39meligibleSlots,\n\u001B[1;32m     21\u001B[0m         \u001B[38;5;124m'\u001B[39m\u001B[38;5;124mAcquisition Type\u001B[39m\u001B[38;5;124m'\u001B[39m: player\u001B[38;5;241m.\u001B[39macquisitionType,\n\u001B[0;32m---> 22\u001B[0m         \u001B[38;5;124m'\u001B[39m\u001B[38;5;124mInjury Value\u001B[39m\u001B[38;5;124m'\u001B[39m: \u001B[43minjury_status_values\u001B[49m\u001B[38;5;241;43m.\u001B[39;49m\u001B[43mget\u001B[49m\u001B[43m(\u001B[49m\u001B[43mplayer\u001B[49m\u001B[38;5;241;43m.\u001B[39;49m\u001B[43minjuryStatus\u001B[49m\u001B[43m,\u001B[49m\u001B[43m \u001B[49m\u001B[38;5;241;43m1.0\u001B[39;49m\u001B[43m)\u001B[49m  \n\u001B[1;32m     23\u001B[0m         \u001B[38;5;66;03m# Default to 1.0 if status is not found\u001B[39;00m\n\u001B[1;32m     24\u001B[0m     }\n\u001B[1;32m     25\u001B[0m     free_agents_data\u001B[38;5;241m.\u001B[39mappend(player_data)\n\u001B[1;32m     27\u001B[0m \u001B[38;5;66;03m# Create a pandas DataFrame from the extracted data\u001B[39;00m\n",
      "\u001B[0;31mTypeError\u001B[0m: unhashable type: 'list'"
     ]
    }
   ],
   "execution_count": 12
  },
  {
   "metadata": {
    "ExecuteTime": {
     "end_time": "2024-09-08T14:27:44.769622Z",
     "start_time": "2024-09-08T14:27:44.759610Z"
    }
   },
   "cell_type": "code",
   "source": [
    "# Define injury status values\n",
    "injury_status_values = {\n",
    "    'HEALTHY': 1.0,\n",
    "    'DOUBTFUL': 0.75,\n",
    "    'QUESTIONABLE': 0.5,\n",
    "    'INJURY_RESERVE': 0.5,\n",
    "    'OUT': 0.0\n",
    "}\n",
    "\n",
    "# Extract relevant stats for each player\n",
    "free_agents_data = []\n",
    "for player in free_agents:\n",
    "    player_data = {\n",
    "        'Name': player.name,\n",
    "        'Points': player.points,\n",
    "        'Projected': player.projected_points,\n",
    "        'Position': player.position,\n",
    "        'Team': player.proTeam,\n",
    "        'Injury Status': player.injuryStatus,\n",
    "        'Eligible Slots': player.eligibleSlots,\n",
    "        'Acquisition Type': player.acquisitionType,\n",
    "        'Injury Value': injury_status_values.get(player.injuryStatus, 1.0)  # Default to 1.0 if status is not found\n",
    "    }\n",
    "    free_agents_data.append(player_data)\n",
    "\n",
    "# Create a pandas DataFrame from the extracted data\n",
    "free_agents_df = pd.DataFrame(free_agents_data)\n",
    "\n",
    "# Add a new column for the ratio of eligible positions to projected points, factoring in injury status\n",
    "free_agents_df['PPR'] = (free_agents_df['Eligible Slots'].apply(lambda x: len(x)) / free_agents_df['Projected']) * free_agents_df['Injury Value']\n",
    "\n",
    "# Sort the DataFrame by the new ratio column in descending order\n",
    "sorted_free_agents_df = free_agents_df.sort_values(by='PPR', ascending=False)\n",
    "\n",
    "# Display the sorted DataFrame\n",
    "print(sorted_free_agents_df)"
   ],
   "id": "ba2ad6f767636793",
   "outputs": [
    {
     "ename": "TypeError",
     "evalue": "unhashable type: 'list'",
     "output_type": "error",
     "traceback": [
      "\u001B[0;31m---------------------------------------------------------------------------\u001B[0m",
      "\u001B[0;31mTypeError\u001B[0m                                 Traceback (most recent call last)",
      "Cell \u001B[0;32mIn[16], line 22\u001B[0m\n\u001B[1;32m     11\u001B[0m free_agents_data \u001B[38;5;241m=\u001B[39m []\n\u001B[1;32m     12\u001B[0m \u001B[38;5;28;01mfor\u001B[39;00m player \u001B[38;5;129;01min\u001B[39;00m free_agents:\n\u001B[1;32m     13\u001B[0m     player_data \u001B[38;5;241m=\u001B[39m {\n\u001B[1;32m     14\u001B[0m         \u001B[38;5;124m'\u001B[39m\u001B[38;5;124mName\u001B[39m\u001B[38;5;124m'\u001B[39m: player\u001B[38;5;241m.\u001B[39mname,\n\u001B[1;32m     15\u001B[0m         \u001B[38;5;124m'\u001B[39m\u001B[38;5;124mPoints\u001B[39m\u001B[38;5;124m'\u001B[39m: player\u001B[38;5;241m.\u001B[39mpoints,\n\u001B[1;32m     16\u001B[0m         \u001B[38;5;124m'\u001B[39m\u001B[38;5;124mProjected\u001B[39m\u001B[38;5;124m'\u001B[39m: player\u001B[38;5;241m.\u001B[39mprojected_points,\n\u001B[1;32m     17\u001B[0m         \u001B[38;5;124m'\u001B[39m\u001B[38;5;124mPosition\u001B[39m\u001B[38;5;124m'\u001B[39m: player\u001B[38;5;241m.\u001B[39mposition,\n\u001B[1;32m     18\u001B[0m         \u001B[38;5;124m'\u001B[39m\u001B[38;5;124mTeam\u001B[39m\u001B[38;5;124m'\u001B[39m: player\u001B[38;5;241m.\u001B[39mproTeam,\n\u001B[1;32m     19\u001B[0m         \u001B[38;5;124m'\u001B[39m\u001B[38;5;124mInjury Status\u001B[39m\u001B[38;5;124m'\u001B[39m: player\u001B[38;5;241m.\u001B[39minjuryStatus,\n\u001B[1;32m     20\u001B[0m         \u001B[38;5;124m'\u001B[39m\u001B[38;5;124mEligible Slots\u001B[39m\u001B[38;5;124m'\u001B[39m: player\u001B[38;5;241m.\u001B[39meligibleSlots,\n\u001B[1;32m     21\u001B[0m         \u001B[38;5;124m'\u001B[39m\u001B[38;5;124mAcquisition Type\u001B[39m\u001B[38;5;124m'\u001B[39m: player\u001B[38;5;241m.\u001B[39macquisitionType,\n\u001B[0;32m---> 22\u001B[0m         \u001B[38;5;124m'\u001B[39m\u001B[38;5;124mInjury Value\u001B[39m\u001B[38;5;124m'\u001B[39m: \u001B[43minjury_status_values\u001B[49m\u001B[38;5;241;43m.\u001B[39;49m\u001B[43mget\u001B[49m\u001B[43m(\u001B[49m\u001B[43mplayer\u001B[49m\u001B[38;5;241;43m.\u001B[39;49m\u001B[43minjuryStatus\u001B[49m\u001B[43m,\u001B[49m\u001B[43m \u001B[49m\u001B[38;5;241;43m1.0\u001B[39;49m\u001B[43m)\u001B[49m  \u001B[38;5;66;03m# Default to 1.0 if status is not found\u001B[39;00m\n\u001B[1;32m     23\u001B[0m     }\n\u001B[1;32m     24\u001B[0m     free_agents_data\u001B[38;5;241m.\u001B[39mappend(player_data)\n\u001B[1;32m     26\u001B[0m \u001B[38;5;66;03m# Create a pandas DataFrame from the extracted data\u001B[39;00m\n",
      "\u001B[0;31mTypeError\u001B[0m: unhashable type: 'list'"
     ]
    }
   ],
   "execution_count": 16
  }
 ],
 "metadata": {
  "kernelspec": {
   "display_name": "Python 3",
   "language": "python",
   "name": "python3"
  },
  "language_info": {
   "codemirror_mode": {
    "name": "ipython",
    "version": 2
   },
   "file_extension": ".py",
   "mimetype": "text/x-python",
   "name": "python",
   "nbconvert_exporter": "python",
   "pygments_lexer": "ipython2",
   "version": "2.7.6"
  }
 },
 "nbformat": 4,
 "nbformat_minor": 5
}
