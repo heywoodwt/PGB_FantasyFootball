{
 "cells": [
  {
   "metadata": {
    "ExecuteTime": {
     "end_time": "2024-09-06T00:25:52.410937Z",
     "start_time": "2024-09-06T00:25:52.405815Z"
    }
   },
   "cell_type": "code",
   "source": [
    "from datascience import *\n",
    "import numpy as np\n",
    "import matplotlib\n",
    "%matplotlib inline\n",
    "import matplotlib.pyplot as plt\n",
    "plt.style.use('fivethirtyeight')"
   ],
   "id": "e5cb1fbe1da282",
   "outputs": [],
   "execution_count": 13
  },
  {
   "metadata": {
    "ExecuteTime": {
     "end_time": "2024-09-06T00:25:52.428697Z",
     "start_time": "2024-09-06T00:25:52.426832Z"
    }
   },
   "cell_type": "code",
   "source": [
    "import pandas as pd\n",
    "from espn_api.football import League"
   ],
   "id": "142642911df89ddd",
   "outputs": [],
   "execution_count": 14
  },
  {
   "cell_type": "code",
   "id": "initial_id",
   "metadata": {
    "collapsed": true,
    "ExecuteTime": {
     "end_time": "2024-09-06T00:25:53.448864Z",
     "start_time": "2024-09-06T00:25:52.435617Z"
    }
   },
   "source": [
    "# Init\n",
    "pgb_league = League(league_id=1328496691, year=2024, espn_s2='AEBYECasftI1k7UT5d4A7FbT1EfGRH660hjw%2FclbTqlKTY1a7KlqHIhaj4%2BoPD82tbfS8uOCS0nq%2B9G8wgnOuztJOi%2BCRcAIfue1xsW3vQUYDLJ8TlX9s5ieZPAcI3MvgLzDfzRkT0QWjEbq2MRZrzEnv2zM8jY3MepkKDtXWwE4aauJTL4d4Tq4Zeljxgsz7%2BH4KYkVBSkczEsQPUQldvmdNQmkGWU2E8nQwXgDVAawjYObLsqqO93cuJiu2qlbPsrR7b%2FfEVNn7b9%2FFRMyvmIG8ZUKvUFAe6iINuUrUd0779KsdgCtBbg6210B4W%2FQjgQ%3D', swid='{2C7AFCC4-F961-4FAB-B021-DD728F1DC1E9}')"
   ],
   "outputs": [],
   "execution_count": 15
  },
  {
   "metadata": {
    "ExecuteTime": {
     "end_time": "2024-09-06T00:25:53.461311Z",
     "start_time": "2024-09-06T00:25:53.459099Z"
    }
   },
   "cell_type": "code",
   "source": "print(pgb_league.teams)",
   "id": "d39b76c4068e6be4",
   "outputs": [
    {
     "name": "stdout",
     "output_type": "stream",
     "text": [
      "[Team(Kady's Dynasty), Team(A, B, CeeDee), Team(Karin-A Victory), Team(Shake It Off-ense), Team(Da Bears), Team(Laura's Team), Team(Meghan's Motivated Team), Team(Mo Money, Mo Touchdowns), Team(Michelle's Magnificent Team), Team(Producing Wins), Team(Heywood Ya Tailgate!), Team(Nancerocks )]\n"
     ]
    }
   ],
   "execution_count": 16
  },
  {
   "metadata": {
    "ExecuteTime": {
     "end_time": "2024-09-06T00:25:53.477539Z",
     "start_time": "2024-09-06T00:25:53.474820Z"
    }
   },
   "cell_type": "code",
   "source": [
    "pgb_teams_df = pd.DataFrame(pgb_league.teams)\n",
    "\n",
    "print(pgb_teams_df)"
   ],
   "id": "2cdd04d88db6f9e4",
   "outputs": [
    {
     "name": "stdout",
     "output_type": "stream",
     "text": [
      "                                    0\n",
      "0                Team(Kady's Dynasty)\n",
      "1                  Team(A, B, CeeDee)\n",
      "2               Team(Karin-A Victory)\n",
      "3             Team(Shake It Off-ense)\n",
      "4                      Team(Da Bears)\n",
      "5                  Team(Laura's Team)\n",
      "6       Team(Meghan's Motivated Team)\n",
      "7       Team(Mo Money, Mo Touchdowns)\n",
      "8   Team(Michelle's Magnificent Team)\n",
      "9                Team(Producing Wins)\n",
      "10         Team(Heywood Ya Tailgate!)\n",
      "11                  Team(Nancerocks )\n"
     ]
    }
   ],
   "execution_count": 17
  },
  {
   "metadata": {
    "ExecuteTime": {
     "end_time": "2024-09-06T00:25:53.493788Z",
     "start_time": "2024-09-06T00:25:53.492015Z"
    }
   },
   "cell_type": "code",
   "source": "print(pgb_league.standings())",
   "id": "a7d6e1c53979cdbf",
   "outputs": [
    {
     "name": "stdout",
     "output_type": "stream",
     "text": [
      "[Team(Nancerocks ), Team(Heywood Ya Tailgate!), Team(Producing Wins), Team(Michelle's Magnificent Team), Team(Mo Money, Mo Touchdowns), Team(Meghan's Motivated Team), Team(Laura's Team), Team(Da Bears), Team(Shake It Off-ense), Team(Karin-A Victory), Team(A, B, CeeDee), Team(Kady's Dynasty)]\n"
     ]
    }
   ],
   "execution_count": 18
  },
  {
   "metadata": {
    "ExecuteTime": {
     "end_time": "2024-09-06T00:25:53.507069Z",
     "start_time": "2024-09-06T00:25:53.505433Z"
    }
   },
   "cell_type": "code",
   "source": "print(pgb_league.power_rankings())",
   "id": "f5e3d941fd015404",
   "outputs": [
    {
     "name": "stdout",
     "output_type": "stream",
     "text": [
      "[('0.00', Team(Kady's Dynasty)), ('0.00', Team(A, B, CeeDee)), ('0.00', Team(Karin-A Victory)), ('0.00', Team(Shake It Off-ense)), ('0.00', Team(Da Bears)), ('0.00', Team(Laura's Team)), ('0.00', Team(Meghan's Motivated Team)), ('0.00', Team(Mo Money, Mo Touchdowns)), ('0.00', Team(Michelle's Magnificent Team)), ('0.00', Team(Producing Wins)), ('0.00', Team(Heywood Ya Tailgate!)), ('0.00', Team(Nancerocks ))]\n"
     ]
    }
   ],
   "execution_count": 19
  },
  {
   "metadata": {
    "ExecuteTime": {
     "end_time": "2024-09-06T00:25:53.518816Z",
     "start_time": "2024-09-06T00:25:53.516249Z"
    }
   },
   "cell_type": "code",
   "source": [
    "# Save in a dataframe\n",
    "power_rankings_df = pd.DataFrame(pgb_league.power_rankings())\n",
    "\n",
    "print(power_rankings_df)"
   ],
   "id": "450446b77ba654a1",
   "outputs": [
    {
     "name": "stdout",
     "output_type": "stream",
     "text": [
      "       0                                  1\n",
      "0   0.00               Team(Kady's Dynasty)\n",
      "1   0.00                 Team(A, B, CeeDee)\n",
      "2   0.00              Team(Karin-A Victory)\n",
      "3   0.00            Team(Shake It Off-ense)\n",
      "4   0.00                     Team(Da Bears)\n",
      "5   0.00                 Team(Laura's Team)\n",
      "6   0.00      Team(Meghan's Motivated Team)\n",
      "7   0.00      Team(Mo Money, Mo Touchdowns)\n",
      "8   0.00  Team(Michelle's Magnificent Team)\n",
      "9   0.00               Team(Producing Wins)\n",
      "10  0.00         Team(Heywood Ya Tailgate!)\n",
      "11  0.00                  Team(Nancerocks )\n"
     ]
    }
   ],
   "execution_count": 20
  },
  {
   "metadata": {
    "ExecuteTime": {
     "end_time": "2024-09-06T00:25:53.534504Z",
     "start_time": "2024-09-06T00:25:53.531164Z"
    }
   },
   "cell_type": "code",
   "source": [
    "# Rename dataframe column 0 to 'Points'\n",
    "power_rankings_df.rename(columns={0: 'PowerRanking'}, inplace=True)\n",
    "power_rankings_df.rename(columns={1: 'Team'}, inplace=True)\n",
    "\n",
    "print(power_rankings_df)"
   ],
   "id": "84a60629c05ec8d3",
   "outputs": [
    {
     "name": "stdout",
     "output_type": "stream",
     "text": [
      "   PowerRanking                               Team\n",
      "0          0.00               Team(Kady's Dynasty)\n",
      "1          0.00                 Team(A, B, CeeDee)\n",
      "2          0.00              Team(Karin-A Victory)\n",
      "3          0.00            Team(Shake It Off-ense)\n",
      "4          0.00                     Team(Da Bears)\n",
      "5          0.00                 Team(Laura's Team)\n",
      "6          0.00      Team(Meghan's Motivated Team)\n",
      "7          0.00      Team(Mo Money, Mo Touchdowns)\n",
      "8          0.00  Team(Michelle's Magnificent Team)\n",
      "9          0.00               Team(Producing Wins)\n",
      "10         0.00         Team(Heywood Ya Tailgate!)\n",
      "11         0.00                  Team(Nancerocks )\n"
     ]
    }
   ],
   "execution_count": 21
  },
  {
   "metadata": {
    "ExecuteTime": {
     "end_time": "2024-09-06T00:25:53.701108Z",
     "start_time": "2024-09-06T00:25:53.619106Z"
    }
   },
   "cell_type": "code",
   "source": [
    "# Create a bar chart\n",
    "plt.figure(figsize=(10, 6))\n",
    "plt.bar(power_rankings_df['Team'], power_rankings_df['PowerRanking'], color='skyblue')\n",
    "plt.xlabel('Team')\n",
    "plt.ylabel('Power Ranking')\n",
    "plt.title('PGB Power Rankings')\n",
    "plt.xticks(rotation=45, ha='right')  # Rotate x-axis labels for better readability with long team names\n",
    "plt.tight_layout()\n",
    "\n",
    "plt.show()"
   ],
   "id": "ed760e651fcb0d8c",
   "outputs": [
    {
     "ename": "TypeError",
     "evalue": "the dtypes of parameters x (object) and width (float64) are incompatible",
     "output_type": "error",
     "traceback": [
      "\u001B[0;31m---------------------------------------------------------------------------\u001B[0m",
      "\u001B[0;31mTypeError\u001B[0m                                 Traceback (most recent call last)",
      "File \u001B[0;32m/Library/Frameworks/Python.framework/Versions/3.12/lib/python3.12/site-packages/matplotlib/axes/_axes.py:2502\u001B[0m, in \u001B[0;36mAxes.bar\u001B[0;34m(self, x, height, width, bottom, align, **kwargs)\u001B[0m\n\u001B[1;32m   2501\u001B[0m \u001B[38;5;28;01mtry\u001B[39;00m:\n\u001B[0;32m-> 2502\u001B[0m     left \u001B[38;5;241m=\u001B[39m \u001B[43mx\u001B[49m\u001B[43m \u001B[49m\u001B[38;5;241;43m-\u001B[39;49m\u001B[43m \u001B[49m\u001B[43mwidth\u001B[49m\u001B[43m \u001B[49m\u001B[38;5;241;43m/\u001B[39;49m\u001B[43m \u001B[49m\u001B[38;5;241;43m2\u001B[39;49m\n\u001B[1;32m   2503\u001B[0m \u001B[38;5;28;01mexcept\u001B[39;00m \u001B[38;5;167;01mTypeError\u001B[39;00m \u001B[38;5;28;01mas\u001B[39;00m e:\n",
      "\u001B[0;31mTypeError\u001B[0m: unsupported operand type(s) for -: 'Team' and 'float'",
      "\nThe above exception was the direct cause of the following exception:\n",
      "\u001B[0;31mTypeError\u001B[0m                                 Traceback (most recent call last)",
      "Cell \u001B[0;32mIn[22], line 3\u001B[0m\n\u001B[1;32m      1\u001B[0m \u001B[38;5;66;03m# Create a bar chart\u001B[39;00m\n\u001B[1;32m      2\u001B[0m plt\u001B[38;5;241m.\u001B[39mfigure(figsize\u001B[38;5;241m=\u001B[39m(\u001B[38;5;241m10\u001B[39m, \u001B[38;5;241m6\u001B[39m))\n\u001B[0;32m----> 3\u001B[0m \u001B[43mplt\u001B[49m\u001B[38;5;241;43m.\u001B[39;49m\u001B[43mbar\u001B[49m\u001B[43m(\u001B[49m\u001B[43mpower_rankings_df\u001B[49m\u001B[43m[\u001B[49m\u001B[38;5;124;43m'\u001B[39;49m\u001B[38;5;124;43mTeam\u001B[39;49m\u001B[38;5;124;43m'\u001B[39;49m\u001B[43m]\u001B[49m\u001B[43m,\u001B[49m\u001B[43m \u001B[49m\u001B[43mpower_rankings_df\u001B[49m\u001B[43m[\u001B[49m\u001B[38;5;124;43m'\u001B[39;49m\u001B[38;5;124;43mPowerRanking\u001B[39;49m\u001B[38;5;124;43m'\u001B[39;49m\u001B[43m]\u001B[49m\u001B[43m,\u001B[49m\u001B[43m \u001B[49m\u001B[43mcolor\u001B[49m\u001B[38;5;241;43m=\u001B[39;49m\u001B[38;5;124;43m'\u001B[39;49m\u001B[38;5;124;43mskyblue\u001B[39;49m\u001B[38;5;124;43m'\u001B[39;49m\u001B[43m)\u001B[49m\n\u001B[1;32m      4\u001B[0m plt\u001B[38;5;241m.\u001B[39mxlabel(\u001B[38;5;124m'\u001B[39m\u001B[38;5;124mTeam\u001B[39m\u001B[38;5;124m'\u001B[39m)\n\u001B[1;32m      5\u001B[0m plt\u001B[38;5;241m.\u001B[39mylabel(\u001B[38;5;124m'\u001B[39m\u001B[38;5;124mPower Ranking\u001B[39m\u001B[38;5;124m'\u001B[39m)\n",
      "File \u001B[0;32m/Library/Frameworks/Python.framework/Versions/3.12/lib/python3.12/site-packages/matplotlib/pyplot.py:2754\u001B[0m, in \u001B[0;36mbar\u001B[0;34m(x, height, width, bottom, align, data, **kwargs)\u001B[0m\n\u001B[1;32m   2743\u001B[0m \u001B[38;5;129m@_copy_docstring_and_deprecators\u001B[39m(Axes\u001B[38;5;241m.\u001B[39mbar)\n\u001B[1;32m   2744\u001B[0m \u001B[38;5;28;01mdef\u001B[39;00m \u001B[38;5;21mbar\u001B[39m(\n\u001B[1;32m   2745\u001B[0m     x: \u001B[38;5;28mfloat\u001B[39m \u001B[38;5;241m|\u001B[39m ArrayLike,\n\u001B[0;32m   (...)\u001B[0m\n\u001B[1;32m   2752\u001B[0m     \u001B[38;5;241m*\u001B[39m\u001B[38;5;241m*\u001B[39mkwargs,\n\u001B[1;32m   2753\u001B[0m ) \u001B[38;5;241m-\u001B[39m\u001B[38;5;241m>\u001B[39m BarContainer:\n\u001B[0;32m-> 2754\u001B[0m     \u001B[38;5;28;01mreturn\u001B[39;00m \u001B[43mgca\u001B[49m\u001B[43m(\u001B[49m\u001B[43m)\u001B[49m\u001B[38;5;241;43m.\u001B[39;49m\u001B[43mbar\u001B[49m\u001B[43m(\u001B[49m\n\u001B[1;32m   2755\u001B[0m \u001B[43m        \u001B[49m\u001B[43mx\u001B[49m\u001B[43m,\u001B[49m\n\u001B[1;32m   2756\u001B[0m \u001B[43m        \u001B[49m\u001B[43mheight\u001B[49m\u001B[43m,\u001B[49m\n\u001B[1;32m   2757\u001B[0m \u001B[43m        \u001B[49m\u001B[43mwidth\u001B[49m\u001B[38;5;241;43m=\u001B[39;49m\u001B[43mwidth\u001B[49m\u001B[43m,\u001B[49m\n\u001B[1;32m   2758\u001B[0m \u001B[43m        \u001B[49m\u001B[43mbottom\u001B[49m\u001B[38;5;241;43m=\u001B[39;49m\u001B[43mbottom\u001B[49m\u001B[43m,\u001B[49m\n\u001B[1;32m   2759\u001B[0m \u001B[43m        \u001B[49m\u001B[43malign\u001B[49m\u001B[38;5;241;43m=\u001B[39;49m\u001B[43malign\u001B[49m\u001B[43m,\u001B[49m\n\u001B[1;32m   2760\u001B[0m \u001B[43m        \u001B[49m\u001B[38;5;241;43m*\u001B[39;49m\u001B[38;5;241;43m*\u001B[39;49m\u001B[43m(\u001B[49m\u001B[43m{\u001B[49m\u001B[38;5;124;43m\"\u001B[39;49m\u001B[38;5;124;43mdata\u001B[39;49m\u001B[38;5;124;43m\"\u001B[39;49m\u001B[43m:\u001B[49m\u001B[43m \u001B[49m\u001B[43mdata\u001B[49m\u001B[43m}\u001B[49m\u001B[43m \u001B[49m\u001B[38;5;28;43;01mif\u001B[39;49;00m\u001B[43m \u001B[49m\u001B[43mdata\u001B[49m\u001B[43m \u001B[49m\u001B[38;5;129;43;01mis\u001B[39;49;00m\u001B[43m \u001B[49m\u001B[38;5;129;43;01mnot\u001B[39;49;00m\u001B[43m \u001B[49m\u001B[38;5;28;43;01mNone\u001B[39;49;00m\u001B[43m \u001B[49m\u001B[38;5;28;43;01melse\u001B[39;49;00m\u001B[43m \u001B[49m\u001B[43m{\u001B[49m\u001B[43m}\u001B[49m\u001B[43m)\u001B[49m\u001B[43m,\u001B[49m\n\u001B[1;32m   2761\u001B[0m \u001B[43m        \u001B[49m\u001B[38;5;241;43m*\u001B[39;49m\u001B[38;5;241;43m*\u001B[39;49m\u001B[43mkwargs\u001B[49m\u001B[43m,\u001B[49m\n\u001B[1;32m   2762\u001B[0m \u001B[43m    \u001B[49m\u001B[43m)\u001B[49m\n",
      "File \u001B[0;32m/Library/Frameworks/Python.framework/Versions/3.12/lib/python3.12/site-packages/matplotlib/__init__.py:1465\u001B[0m, in \u001B[0;36m_preprocess_data.<locals>.inner\u001B[0;34m(ax, data, *args, **kwargs)\u001B[0m\n\u001B[1;32m   1462\u001B[0m \u001B[38;5;129m@functools\u001B[39m\u001B[38;5;241m.\u001B[39mwraps(func)\n\u001B[1;32m   1463\u001B[0m \u001B[38;5;28;01mdef\u001B[39;00m \u001B[38;5;21minner\u001B[39m(ax, \u001B[38;5;241m*\u001B[39margs, data\u001B[38;5;241m=\u001B[39m\u001B[38;5;28;01mNone\u001B[39;00m, \u001B[38;5;241m*\u001B[39m\u001B[38;5;241m*\u001B[39mkwargs):\n\u001B[1;32m   1464\u001B[0m     \u001B[38;5;28;01mif\u001B[39;00m data \u001B[38;5;129;01mis\u001B[39;00m \u001B[38;5;28;01mNone\u001B[39;00m:\n\u001B[0;32m-> 1465\u001B[0m         \u001B[38;5;28;01mreturn\u001B[39;00m \u001B[43mfunc\u001B[49m\u001B[43m(\u001B[49m\u001B[43max\u001B[49m\u001B[43m,\u001B[49m\u001B[43m \u001B[49m\u001B[38;5;241;43m*\u001B[39;49m\u001B[38;5;28;43mmap\u001B[39;49m\u001B[43m(\u001B[49m\u001B[43msanitize_sequence\u001B[49m\u001B[43m,\u001B[49m\u001B[43m \u001B[49m\u001B[43margs\u001B[49m\u001B[43m)\u001B[49m\u001B[43m,\u001B[49m\u001B[43m \u001B[49m\u001B[38;5;241;43m*\u001B[39;49m\u001B[38;5;241;43m*\u001B[39;49m\u001B[43mkwargs\u001B[49m\u001B[43m)\u001B[49m\n\u001B[1;32m   1467\u001B[0m     bound \u001B[38;5;241m=\u001B[39m new_sig\u001B[38;5;241m.\u001B[39mbind(ax, \u001B[38;5;241m*\u001B[39margs, \u001B[38;5;241m*\u001B[39m\u001B[38;5;241m*\u001B[39mkwargs)\n\u001B[1;32m   1468\u001B[0m     auto_label \u001B[38;5;241m=\u001B[39m (bound\u001B[38;5;241m.\u001B[39marguments\u001B[38;5;241m.\u001B[39mget(label_namer)\n\u001B[1;32m   1469\u001B[0m                   \u001B[38;5;129;01mor\u001B[39;00m bound\u001B[38;5;241m.\u001B[39mkwargs\u001B[38;5;241m.\u001B[39mget(label_namer))\n",
      "File \u001B[0;32m/Library/Frameworks/Python.framework/Versions/3.12/lib/python3.12/site-packages/matplotlib/axes/_axes.py:2504\u001B[0m, in \u001B[0;36mAxes.bar\u001B[0;34m(self, x, height, width, bottom, align, **kwargs)\u001B[0m\n\u001B[1;32m   2502\u001B[0m         left \u001B[38;5;241m=\u001B[39m x \u001B[38;5;241m-\u001B[39m width \u001B[38;5;241m/\u001B[39m \u001B[38;5;241m2\u001B[39m\n\u001B[1;32m   2503\u001B[0m     \u001B[38;5;28;01mexcept\u001B[39;00m \u001B[38;5;167;01mTypeError\u001B[39;00m \u001B[38;5;28;01mas\u001B[39;00m e:\n\u001B[0;32m-> 2504\u001B[0m         \u001B[38;5;28;01mraise\u001B[39;00m \u001B[38;5;167;01mTypeError\u001B[39;00m(\u001B[38;5;124mf\u001B[39m\u001B[38;5;124m'\u001B[39m\u001B[38;5;124mthe dtypes of parameters x (\u001B[39m\u001B[38;5;132;01m{\u001B[39;00mx\u001B[38;5;241m.\u001B[39mdtype\u001B[38;5;132;01m}\u001B[39;00m\u001B[38;5;124m) \u001B[39m\u001B[38;5;124m'\u001B[39m\n\u001B[1;32m   2505\u001B[0m                         \u001B[38;5;124mf\u001B[39m\u001B[38;5;124m'\u001B[39m\u001B[38;5;124mand width (\u001B[39m\u001B[38;5;132;01m{\u001B[39;00mwidth\u001B[38;5;241m.\u001B[39mdtype\u001B[38;5;132;01m}\u001B[39;00m\u001B[38;5;124m) \u001B[39m\u001B[38;5;124m'\u001B[39m\n\u001B[1;32m   2506\u001B[0m                         \u001B[38;5;124mf\u001B[39m\u001B[38;5;124m'\u001B[39m\u001B[38;5;124mare incompatible\u001B[39m\u001B[38;5;124m'\u001B[39m) \u001B[38;5;28;01mfrom\u001B[39;00m \u001B[38;5;21;01me\u001B[39;00m\n\u001B[1;32m   2507\u001B[0m     bottom \u001B[38;5;241m=\u001B[39m y\n\u001B[1;32m   2508\u001B[0m \u001B[38;5;28;01melse\u001B[39;00m:  \u001B[38;5;66;03m# horizontal\u001B[39;00m\n",
      "\u001B[0;31mTypeError\u001B[0m: the dtypes of parameters x (object) and width (float64) are incompatible"
     ]
    },
    {
     "data": {
      "text/plain": [
       "<Figure size 1000x600 with 1 Axes>"
      ],
      "image/png": "[encoded data removed]"
     },
     "metadata": {},
     "output_type": "display_data"
    }
   ],
   "execution_count": 22
  },
  {
   "metadata": {
    "ExecuteTime": {
     "end_time": "2024-09-06T00:25:53.738840Z",
     "start_time": "2024-09-03T22:38:17.084491Z"
    }
   },
   "cell_type": "code",
   "source": [
    "pro_schedule_df = pd.DataFrame(pgb_league._get_all_pro_schedule())\n",
    "\n",
    "print(pro_schedule_df)\n",
    "\n",
    "#save to csv\n",
    "pro_schedule_df.to_csv('pro_schedule.csv')"
   ],
   "id": "c24b82a40a199e4b",
   "outputs": [
    {
     "name": "stdout",
     "output_type": "stream",
     "text": [
      "                                                   11  \\\n",
      "1   [{'awayProTeamId': 34, 'date': 1725814800000, ...   \n",
      "2   [{'awayProTeamId': 11, 'date': 1726419600000, ...   \n",
      "3   [{'awayProTeamId': 3, 'date': 1727024400000, '...   \n",
      "4   [{'awayProTeamId': 23, 'date': 1727629200000, ...   \n",
      "5   [{'awayProTeamId': 11, 'date': 1728234000000, ...   \n",
      "6   [{'awayProTeamId': 11, 'date': 1728838800000, ...   \n",
      "7   [{'awayProTeamId': 15, 'date': 1729443600000, ...   \n",
      "8   [{'awayProTeamId': 11, 'date': 1730048400000, ...   \n",
      "9   [{'awayProTeamId': 11, 'date': 1730656800000, ...   \n",
      "10  [{'awayProTeamId': 2, 'date': 1731261600000, '...   \n",
      "11  [{'awayProTeamId': 11, 'date': 1731892800000, ...   \n",
      "12  [{'awayProTeamId': 8, 'date': 1732471200000, '...   \n",
      "13  [{'awayProTeamId': 11, 'date': 1733076000000, ...   \n",
      "15  [{'awayProTeamId': 11, 'date': 1734297900000, ...   \n",
      "16  [{'awayProTeamId': 10, 'date': 1734890400000, ...   \n",
      "17  [{'awayProTeamId': 11, 'date': 1735459260000, ...   \n",
      "18  [{'awayProTeamId': 30, 'date': 1736064060000, ...   \n",
      "14                                                NaN   \n",
      "\n",
      "                                                   12  \\\n",
      "1   [{'awayProTeamId': 33, 'date': 1725582000000, ...   \n",
      "2   [{'awayProTeamId': 4, 'date': 1726431900000, '...   \n",
      "3   [{'awayProTeamId': 12, 'date': 1727050800000, ...   \n",
      "4   [{'awayProTeamId': 12, 'date': 1727641500000, ...   \n",
      "5   [{'awayProTeamId': 18, 'date': 1728346500000, ...   \n",
      "6                                                 NaN   \n",
      "7   [{'awayProTeamId': 12, 'date': 1729455900000, ...   \n",
      "8   [{'awayProTeamId': 12, 'date': 1730060700000, ...   \n",
      "9   [{'awayProTeamId': 27, 'date': 1730769300000, ...   \n",
      "10  [{'awayProTeamId': 7, 'date': 1731261600000, '...   \n",
      "11  [{'awayProTeamId': 12, 'date': 1731878700000, ...   \n",
      "12  [{'awayProTeamId': 12, 'date': 1732471200000, ...   \n",
      "13  [{'awayProTeamId': 13, 'date': 1732910400000, ...   \n",
      "15  [{'awayProTeamId': 12, 'date': 1734285600000, ...   \n",
      "16  [{'awayProTeamId': 34, 'date': 1734804000000, ...   \n",
      "17  [{'awayProTeamId': 12, 'date': 1735149600000, ...   \n",
      "18  [{'awayProTeamId': 12, 'date': 1736064060000, ...   \n",
      "14  [{'awayProTeamId': 24, 'date': 1733707200000, ...   \n",
      "\n",
      "                                                   13  \\\n",
      "1   [{'awayProTeamId': 13, 'date': 1725825900000, ...   \n",
      "2   [{'awayProTeamId': 13, 'date': 1726419600000, ...   \n",
      "3   [{'awayProTeamId': 29, 'date': 1727035500000, ...   \n",
      "4   [{'awayProTeamId': 5, 'date': 1727641500000, '...   \n",
      "5   [{'awayProTeamId': 13, 'date': 1728245100000, ...   \n",
      "6   [{'awayProTeamId': 23, 'date': 1728849900000, ...   \n",
      "7   [{'awayProTeamId': 13, 'date': 1729454700000, ...   \n",
      "8   [{'awayProTeamId': 12, 'date': 1730060700000, ...   \n",
      "9   [{'awayProTeamId': 13, 'date': 1730656800000, ...   \n",
      "10                                                NaN   \n",
      "11  [{'awayProTeamId': 13, 'date': 1731866400000, ...   \n",
      "12  [{'awayProTeamId': 7, 'date': 1732482300000, '...   \n",
      "13  [{'awayProTeamId': 13, 'date': 1732910400000, ...   \n",
      "15  [{'awayProTeamId': 1, 'date': 1734399000000, '...   \n",
      "16  [{'awayProTeamId': 30, 'date': 1734902700000, ...   \n",
      "17  [{'awayProTeamId': 13, 'date': 1735495200000, ...   \n",
      "18  [{'awayProTeamId': 24, 'date': 1736064060000, ...   \n",
      "14  [{'awayProTeamId': 13, 'date': 1733680800000, ...   \n",
      "\n",
      "                                                   14  \\\n",
      "1   [{'awayProTeamId': 14, 'date': 1725841200000, ...   \n",
      "2   [{'awayProTeamId': 14, 'date': 1726430700000, ...   \n",
      "3   [{'awayProTeamId': 25, 'date': 1727036700000, ...   \n",
      "4   [{'awayProTeamId': 14, 'date': 1727629200000, ...   \n",
      "5   [{'awayProTeamId': 9, 'date': 1728246300000, '...   \n",
      "6                                                 NaN   \n",
      "7   [{'awayProTeamId': 13, 'date': 1729454700000, ...   \n",
      "8   [{'awayProTeamId': 16, 'date': 1729815300000, ...   \n",
      "9   [{'awayProTeamId': 14, 'date': 1730669100000, ...   \n",
      "10  [{'awayProTeamId': 15, 'date': 1731374100000, ...   \n",
      "11  [{'awayProTeamId': 14, 'date': 1731866400000, ...   \n",
      "12  [{'awayProTeamId': 21, 'date': 1732497600000, ...   \n",
      "13  [{'awayProTeamId': 14, 'date': 1733087100000, ...   \n",
      "15  [{'awayProTeamId': 14, 'date': 1734052500000, ...   \n",
      "16  [{'awayProTeamId': 14, 'date': 1734890400000, ...   \n",
      "17  [{'awayProTeamId': 22, 'date': 1735459260000, ...   \n",
      "18  [{'awayProTeamId': 26, 'date': 1736064060000, ...   \n",
      "14  [{'awayProTeamId': 2, 'date': 1733693100000, '...   \n",
      "\n",
      "                                                   15  \\\n",
      "1   [{'awayProTeamId': 30, 'date': 1725814800000, ...   \n",
      "2   [{'awayProTeamId': 2, 'date': 1726186500000, '...   \n",
      "3   [{'awayProTeamId': 15, 'date': 1727035500000, ...   \n",
      "4   [{'awayProTeamId': 10, 'date': 1727739000000, ...   \n",
      "5   [{'awayProTeamId': 15, 'date': 1728234000000, ...   \n",
      "6                                                 NaN   \n",
      "7   [{'awayProTeamId': 15, 'date': 1729443600000, ...   \n",
      "8   [{'awayProTeamId': 22, 'date': 1730048400000, ...   \n",
      "9   [{'awayProTeamId': 15, 'date': 1730656800000, ...   \n",
      "10  [{'awayProTeamId': 15, 'date': 1731374100000, ...   \n",
      "11  [{'awayProTeamId': 13, 'date': 1731866400000, ...   \n",
      "12  [{'awayProTeamId': 17, 'date': 1732471200000, ...   \n",
      "13  [{'awayProTeamId': 15, 'date': 1732843200000, ...   \n",
      "15  [{'awayProTeamId': 15, 'date': 1734285600000, ...   \n",
      "16  [{'awayProTeamId': 25, 'date': 1734902700000, ...   \n",
      "17  [{'awayProTeamId': 15, 'date': 1735521600000, ...   \n",
      "18  [{'awayProTeamId': 15, 'date': 1736064060000, ...   \n",
      "14  [{'awayProTeamId': 20, 'date': 1733680800000, ...   \n",
      "\n",
      "                                                   16  \\\n",
      "1   [{'awayProTeamId': 16, 'date': 1725814800000, ...   \n",
      "2   [{'awayProTeamId': 25, 'date': 1726419600000, ...   \n",
      "3   [{'awayProTeamId': 34, 'date': 1727024400000, ...   \n",
      "4   [{'awayProTeamId': 16, 'date': 1727629200000, ...   \n",
      "5   [{'awayProTeamId': 20, 'date': 1728221400000, ...   \n",
      "6                                                 NaN   \n",
      "7   [{'awayProTeamId': 8, 'date': 1729443600000, '...   \n",
      "8   [{'awayProTeamId': 16, 'date': 1729815300000, ...   \n",
      "9   [{'awayProTeamId': 11, 'date': 1730656800000, ...   \n",
      "10  [{'awayProTeamId': 16, 'date': 1731261600000, ...   \n",
      "11  [{'awayProTeamId': 16, 'date': 1731866400000, ...   \n",
      "12  [{'awayProTeamId': 16, 'date': 1732471200000, ...   \n",
      "13  [{'awayProTeamId': 22, 'date': 1733076000000, ...   \n",
      "15  [{'awayProTeamId': 3, 'date': 1734397200000, '...   \n",
      "16  [{'awayProTeamId': 16, 'date': 1734901500000, ...   \n",
      "17  [{'awayProTeamId': 9, 'date': 1735495200000, '...   \n",
      "18  [{'awayProTeamId': 16, 'date': 1736064060000, ...   \n",
      "14  [{'awayProTeamId': 1, 'date': 1733680800000, '...   \n",
      "\n",
      "                                                   17  \\\n",
      "1   [{'awayProTeamId': 17, 'date': 1725814800000, ...   \n",
      "2   [{'awayProTeamId': 26, 'date': 1726419600000, ...   \n",
      "3   [{'awayProTeamId': 17, 'date': 1726791300000, ...   \n",
      "4   [{'awayProTeamId': 17, 'date': 1727640300000, ...   \n",
      "5   [{'awayProTeamId': 15, 'date': 1728234000000, ...   \n",
      "6   [{'awayProTeamId': 34, 'date': 1728838800000, ...   \n",
      "7   [{'awayProTeamId': 17, 'date': 1729431000000, ...   \n",
      "8   [{'awayProTeamId': 20, 'date': 1730048400000, ...   \n",
      "9   [{'awayProTeamId': 17, 'date': 1730656800000, ...   \n",
      "10  [{'awayProTeamId': 17, 'date': 1731261600000, ...   \n",
      "11  [{'awayProTeamId': 14, 'date': 1731866400000, ...   \n",
      "12  [{'awayProTeamId': 17, 'date': 1732471200000, ...   \n",
      "13  [{'awayProTeamId': 11, 'date': 1733076000000, ...   \n",
      "15  [{'awayProTeamId': 17, 'date': 1734297900000, ...   \n",
      "16  [{'awayProTeamId': 17, 'date': 1734890400000, ...   \n",
      "17  [{'awayProTeamId': 24, 'date': 1735459260000, ...   \n",
      "18  [{'awayProTeamId': 2, 'date': 1736064060000, '...   \n",
      "14                                                NaN   \n",
      "\n",
      "                                                   18  \\\n",
      "1   [{'awayProTeamId': 29, 'date': 1725814800000, ...   \n",
      "2   [{'awayProTeamId': 18, 'date': 1726419600000, ...   \n",
      "3   [{'awayProTeamId': 21, 'date': 1727024400000, ...   \n",
      "4   [{'awayProTeamId': 18, 'date': 1727629200000, ...   \n",
      "5   [{'awayProTeamId': 18, 'date': 1728346500000, ...   \n",
      "6   [{'awayProTeamId': 27, 'date': 1728838800000, ...   \n",
      "7   [{'awayProTeamId': 7, 'date': 1729210500000, '...   \n",
      "8   [{'awayProTeamId': 18, 'date': 1730059500000, ...   \n",
      "9   [{'awayProTeamId': 18, 'date': 1730656800000, ...   \n",
      "10  [{'awayProTeamId': 1, 'date': 1731261600000, '...   \n",
      "11  [{'awayProTeamId': 5, 'date': 1731866400000, '...   \n",
      "12                                                NaN   \n",
      "13  [{'awayProTeamId': 14, 'date': 1733087100000, ...   \n",
      "15  [{'awayProTeamId': 28, 'date': 1734285600000, ...   \n",
      "16  [{'awayProTeamId': 18, 'date': 1735002900000, ...   \n",
      "17  [{'awayProTeamId': 13, 'date': 1735495200000, ...   \n",
      "18  [{'awayProTeamId': 18, 'date': 1736064060000, ...   \n",
      "14  [{'awayProTeamId': 18, 'date': 1733680800000, ...   \n",
      "\n",
      "                                                   19  \\\n",
      "1   [{'awayProTeamId': 16, 'date': 1725814800000, ...   \n",
      "2   [{'awayProTeamId': 19, 'date': 1726419600000, ...   \n",
      "3   [{'awayProTeamId': 19, 'date': 1727024400000, ...   \n",
      "4   [{'awayProTeamId': 6, 'date': 1727396100000, '...   \n",
      "5   [{'awayProTeamId': 19, 'date': 1728246300000, ...   \n",
      "6   [{'awayProTeamId': 4, 'date': 1728865200000, '...   \n",
      "7   [{'awayProTeamId': 21, 'date': 1729443600000, ...   \n",
      "8   [{'awayProTeamId': 19, 'date': 1730160900000, ...   \n",
      "9   [{'awayProTeamId': 28, 'date': 1730656800000, ...   \n",
      "10  [{'awayProTeamId': 19, 'date': 1731249000000, ...   \n",
      "11                                                NaN   \n",
      "12  [{'awayProTeamId': 27, 'date': 1732471200000, ...   \n",
      "13  [{'awayProTeamId': 19, 'date': 1732829400000, ...   \n",
      "15  [{'awayProTeamId': 33, 'date': 1734285600000, ...   \n",
      "16  [{'awayProTeamId': 19, 'date': 1734890400000, ...   \n",
      "17  [{'awayProTeamId': 11, 'date': 1735459260000, ...   \n",
      "18  [{'awayProTeamId': 19, 'date': 1736064060000, ...   \n",
      "14  [{'awayProTeamId': 18, 'date': 1733680800000, ...   \n",
      "\n",
      "                                                   20  ...  \\\n",
      "1   [{'awayProTeamId': 20, 'date': 1725927600000, ...  ...   \n",
      "2   [{'awayProTeamId': 20, 'date': 1726419600000, ...  ...   \n",
      "3   [{'awayProTeamId': 17, 'date': 1726791300000, ...  ...   \n",
      "4   [{'awayProTeamId': 7, 'date': 1727629200000, '...  ...   \n",
      "5   [{'awayProTeamId': 20, 'date': 1728221400000, ...  ...   \n",
      "6   [{'awayProTeamId': 2, 'date': 1728951300000, '...  ...   \n",
      "7   [{'awayProTeamId': 20, 'date': 1729470000000, ...  ...   \n",
      "8   [{'awayProTeamId': 20, 'date': 1730048400000, ...  ...   \n",
      "9   [{'awayProTeamId': 34, 'date': 1730420100000, ...  ...   \n",
      "10  [{'awayProTeamId': 20, 'date': 1731273900000, ...  ...   \n",
      "11  [{'awayProTeamId': 11, 'date': 1731892800000, ...  ...   \n",
      "12                                                NaN  ...   \n",
      "13  [{'awayProTeamId': 26, 'date': 1733076000000, ...  ...   \n",
      "15  [{'awayProTeamId': 20, 'date': 1734285600000, ...  ...   \n",
      "16  [{'awayProTeamId': 14, 'date': 1734890400000, ...  ...   \n",
      "17  [{'awayProTeamId': 20, 'date': 1735495200000, ...  ...   \n",
      "18  [{'awayProTeamId': 15, 'date': 1736064060000, ...  ...   \n",
      "14  [{'awayProTeamId': 20, 'date': 1733680800000, ...  ...   \n",
      "\n",
      "                                                   1   \\\n",
      "1   [{'awayProTeamId': 23, 'date': 1725814800000, ...   \n",
      "2   [{'awayProTeamId': 1, 'date': 1726532100000, '...   \n",
      "3   [{'awayProTeamId': 12, 'date': 1727050800000, ...   \n",
      "4   [{'awayProTeamId': 18, 'date': 1727629200000, ...   \n",
      "5   [{'awayProTeamId': 27, 'date': 1728000900000, ...   \n",
      "6   [{'awayProTeamId': 1, 'date': 1728851100000, '...   \n",
      "7   [{'awayProTeamId': 26, 'date': 1729443600000, ...   \n",
      "8   [{'awayProTeamId': 1, 'date': 1730048400000, '...   \n",
      "9   [{'awayProTeamId': 6, 'date': 1730656800000, '...   \n",
      "10  [{'awayProTeamId': 1, 'date': 1731261600000, '...   \n",
      "11  [{'awayProTeamId': 1, 'date': 1731877500000, '...   \n",
      "12                                                NaN   \n",
      "13  [{'awayProTeamId': 24, 'date': 1733076000000, ...   \n",
      "15  [{'awayProTeamId': 1, 'date': 1734399000000, '...   \n",
      "16  [{'awayProTeamId': 19, 'date': 1734890400000, ...   \n",
      "17  [{'awayProTeamId': 1, 'date': 1735459260000, '...   \n",
      "18  [{'awayProTeamId': 29, 'date': 1736064060000, ...   \n",
      "14  [{'awayProTeamId': 1, 'date': 1733680800000, '...   \n",
      "\n",
      "                                                   2   \\\n",
      "1   [{'awayProTeamId': 22, 'date': 1725814800000, ...   \n",
      "2   [{'awayProTeamId': 2, 'date': 1726186500000, '...   \n",
      "3   [{'awayProTeamId': 30, 'date': 1727134200000, ...   \n",
      "4   [{'awayProTeamId': 2, 'date': 1727655600000, '...   \n",
      "5   [{'awayProTeamId': 2, 'date': 1728234000000, '...   \n",
      "6   [{'awayProTeamId': 2, 'date': 1728951300000, '...   \n",
      "7   [{'awayProTeamId': 10, 'date': 1729443600000, ...   \n",
      "8   [{'awayProTeamId': 2, 'date': 1730059500000, '...   \n",
      "9   [{'awayProTeamId': 15, 'date': 1730656800000, ...   \n",
      "10  [{'awayProTeamId': 2, 'date': 1731261600000, '...   \n",
      "11  [{'awayProTeamId': 12, 'date': 1731878700000, ...   \n",
      "12                                                NaN   \n",
      "13  [{'awayProTeamId': 25, 'date': 1733102400000, ...   \n",
      "15  [{'awayProTeamId': 2, 'date': 1734297900000, '...   \n",
      "16  [{'awayProTeamId': 17, 'date': 1734890400000, ...   \n",
      "17  [{'awayProTeamId': 20, 'date': 1735495200000, ...   \n",
      "18  [{'awayProTeamId': 2, 'date': 1736064060000, '...   \n",
      "14  [{'awayProTeamId': 2, 'date': 1733693100000, '...   \n",
      "\n",
      "                                                   3   \\\n",
      "1   [{'awayProTeamId': 10, 'date': 1725814800000, ...   \n",
      "2   [{'awayProTeamId': 3, 'date': 1726446000000, '...   \n",
      "3   [{'awayProTeamId': 3, 'date': 1727024400000, '...   \n",
      "4   [{'awayProTeamId': 14, 'date': 1727629200000, ...   \n",
      "5   [{'awayProTeamId': 29, 'date': 1728234000000, ...   \n",
      "6   [{'awayProTeamId': 30, 'date': 1728826200000, ...   \n",
      "7                                                 NaN   \n",
      "8   [{'awayProTeamId': 3, 'date': 1730048400000, '...   \n",
      "9   [{'awayProTeamId': 3, 'date': 1730667900000, '...   \n",
      "10  [{'awayProTeamId': 17, 'date': 1731261600000, ...   \n",
      "11  [{'awayProTeamId': 9, 'date': 1731866400000, '...   \n",
      "12  [{'awayProTeamId': 16, 'date': 1732471200000, ...   \n",
      "13  [{'awayProTeamId': 3, 'date': 1732815000000, '...   \n",
      "15  [{'awayProTeamId': 3, 'date': 1734397200000, '...   \n",
      "16  [{'awayProTeamId': 8, 'date': 1734890400000, '...   \n",
      "17  [{'awayProTeamId': 26, 'date': 1735262100000, ...   \n",
      "18  [{'awayProTeamId': 3, 'date': 1736064060000, '...   \n",
      "14  [{'awayProTeamId': 3, 'date': 1733693100000, '...   \n",
      "\n",
      "                                                   4   \\\n",
      "1   [{'awayProTeamId': 17, 'date': 1725814800000, ...   \n",
      "2   [{'awayProTeamId': 4, 'date': 1726431900000, '...   \n",
      "3   [{'awayProTeamId': 28, 'date': 1727136900000, ...   \n",
      "4   [{'awayProTeamId': 4, 'date': 1727629200000, '...   \n",
      "5   [{'awayProTeamId': 33, 'date': 1728234000000, ...   \n",
      "6   [{'awayProTeamId': 4, 'date': 1728865200000, '...   \n",
      "7   [{'awayProTeamId': 4, 'date': 1729443600000, '...   \n",
      "8   [{'awayProTeamId': 21, 'date': 1730060700000, ...   \n",
      "9   [{'awayProTeamId': 13, 'date': 1730656800000, ...   \n",
      "10  [{'awayProTeamId': 4, 'date': 1731028500000, '...   \n",
      "11  [{'awayProTeamId': 4, 'date': 1731878700000, '...   \n",
      "12                                                NaN   \n",
      "13  [{'awayProTeamId': 23, 'date': 1733076000000, ...   \n",
      "15  [{'awayProTeamId': 4, 'date': 1734285600000, '...   \n",
      "16  [{'awayProTeamId': 5, 'date': 1734657300000, '...   \n",
      "17  [{'awayProTeamId': 7, 'date': 1735459260000, '...   \n",
      "18  [{'awayProTeamId': 4, 'date': 1736064060000, '...   \n",
      "14  [{'awayProTeamId': 4, 'date': 1733793300000, '...   \n",
      "\n",
      "                                                   5   \\\n",
      "1   [{'awayProTeamId': 6, 'date': 1725827100000, '...   \n",
      "2   [{'awayProTeamId': 5, 'date': 1726419600000, '...   \n",
      "3   [{'awayProTeamId': 19, 'date': 1727024400000, ...   \n",
      "4   [{'awayProTeamId': 5, 'date': 1727641500000, '...   \n",
      "5   [{'awayProTeamId': 5, 'date': 1728234000000, '...   \n",
      "6   [{'awayProTeamId': 5, 'date': 1728838800000, '...   \n",
      "7   [{'awayProTeamId': 4, 'date': 1729443600000, '...   \n",
      "8   [{'awayProTeamId': 33, 'date': 1730048400000, ...   \n",
      "9   [{'awayProTeamId': 24, 'date': 1730656800000, ...   \n",
      "10                                                NaN   \n",
      "11  [{'awayProTeamId': 5, 'date': 1731866400000, '...   \n",
      "12  [{'awayProTeamId': 23, 'date': 1732238100000, ...   \n",
      "13  [{'awayProTeamId': 5, 'date': 1733188500000, '...   \n",
      "15  [{'awayProTeamId': 12, 'date': 1734285600000, ...   \n",
      "16  [{'awayProTeamId': 5, 'date': 1734657300000, '...   \n",
      "17  [{'awayProTeamId': 15, 'date': 1735521600000, ...   \n",
      "18  [{'awayProTeamId': 5, 'date': 1736064060000, '...   \n",
      "14  [{'awayProTeamId': 5, 'date': 1733680800000, '...   \n",
      "\n",
      "                                                   6   \\\n",
      "1   [{'awayProTeamId': 6, 'date': 1725827100000, '...   \n",
      "2   [{'awayProTeamId': 18, 'date': 1726419600000, ...   \n",
      "3   [{'awayProTeamId': 33, 'date': 1727036700000, ...   \n",
      "4   [{'awayProTeamId': 6, 'date': 1727396100000, '...   \n",
      "5   [{'awayProTeamId': 6, 'date': 1728260400000, '...   \n",
      "6   [{'awayProTeamId': 8, 'date': 1728851100000, '...   \n",
      "7                                                 NaN   \n",
      "8   [{'awayProTeamId': 6, 'date': 1730074800000, '...   \n",
      "9   [{'awayProTeamId': 6, 'date': 1730656800000, '...   \n",
      "10  [{'awayProTeamId': 21, 'date': 1731273900000, ...   \n",
      "11  [{'awayProTeamId': 34, 'date': 1731978900000, ...   \n",
      "12  [{'awayProTeamId': 6, 'date': 1732471200000, '...   \n",
      "13  [{'awayProTeamId': 19, 'date': 1732829400000, ...   \n",
      "15  [{'awayProTeamId': 6, 'date': 1734285600000, '...   \n",
      "16  [{'awayProTeamId': 27, 'date': 1734916800000, ...   \n",
      "17  [{'awayProTeamId': 6, 'date': 1735507500000, '...   \n",
      "18  [{'awayProTeamId': 28, 'date': 1736064060000, ...   \n",
      "14  [{'awayProTeamId': 4, 'date': 1733793300000, '...   \n",
      "\n",
      "                                                   7   \\\n",
      "1   [{'awayProTeamId': 7, 'date': 1725825900000, '...   \n",
      "2   [{'awayProTeamId': 23, 'date': 1726431900000, ...   \n",
      "3   [{'awayProTeamId': 7, 'date': 1727024400000, '...   \n",
      "4   [{'awayProTeamId': 7, 'date': 1727629200000, '...   \n",
      "5   [{'awayProTeamId': 13, 'date': 1728245100000, ...   \n",
      "6   [{'awayProTeamId': 24, 'date': 1728849900000, ...   \n",
      "7   [{'awayProTeamId': 7, 'date': 1729210500000, '...   \n",
      "8   [{'awayProTeamId': 29, 'date': 1730060700000, ...   \n",
      "9   [{'awayProTeamId': 7, 'date': 1730656800000, '...   \n",
      "10  [{'awayProTeamId': 7, 'date': 1731261600000, '...   \n",
      "11  [{'awayProTeamId': 1, 'date': 1731877500000, '...   \n",
      "12  [{'awayProTeamId': 7, 'date': 1732482300000, '...   \n",
      "13  [{'awayProTeamId': 5, 'date': 1733188500000, '...   \n",
      "15  [{'awayProTeamId': 11, 'date': 1734297900000, ...   \n",
      "16  [{'awayProTeamId': 7, 'date': 1734901500000, '...   \n",
      "17  [{'awayProTeamId': 7, 'date': 1735459260000, '...   \n",
      "18  [{'awayProTeamId': 12, 'date': 1736064060000, ...   \n",
      "14                                                NaN   \n",
      "\n",
      "                                                   8   \\\n",
      "1   [{'awayProTeamId': 14, 'date': 1725841200000, ...   \n",
      "2   [{'awayProTeamId': 27, 'date': 1726419600000, ...   \n",
      "3   [{'awayProTeamId': 8, 'date': 1727036700000, '...   \n",
      "4   [{'awayProTeamId': 26, 'date': 1727741700000, ...   \n",
      "5                                                 NaN   \n",
      "6   [{'awayProTeamId': 8, 'date': 1728851100000, '...   \n",
      "7   [{'awayProTeamId': 8, 'date': 1729443600000, '...   \n",
      "8   [{'awayProTeamId': 10, 'date': 1730048400000, ...   \n",
      "9   [{'awayProTeamId': 8, 'date': 1730669100000, '...   \n",
      "10  [{'awayProTeamId': 8, 'date': 1731288000000, '...   \n",
      "11  [{'awayProTeamId': 30, 'date': 1731866400000, ...   \n",
      "12  [{'awayProTeamId': 8, 'date': 1732471200000, '...   \n",
      "13  [{'awayProTeamId': 3, 'date': 1732815000000, '...   \n",
      "15  [{'awayProTeamId': 2, 'date': 1734297900000, '...   \n",
      "16  [{'awayProTeamId': 8, 'date': 1734890400000, '...   \n",
      "17  [{'awayProTeamId': 8, 'date': 1735607700000, '...   \n",
      "18  [{'awayProTeamId': 16, 'date': 1736064060000, ...   \n",
      "14  [{'awayProTeamId': 9, 'date': 1733447700000, '...   \n",
      "\n",
      "                                                   9   \\\n",
      "1   [{'awayProTeamId': 9, 'date': 1725668100000, '...   \n",
      "2   [{'awayProTeamId': 11, 'date': 1726419600000, ...   \n",
      "3   [{'awayProTeamId': 9, 'date': 1727024400000, '...   \n",
      "4   [{'awayProTeamId': 16, 'date': 1727629200000, ...   \n",
      "5   [{'awayProTeamId': 9, 'date': 1728246300000, '...   \n",
      "6   [{'awayProTeamId': 22, 'date': 1728838800000, ...   \n",
      "7   [{'awayProTeamId': 34, 'date': 1729443600000, ...   \n",
      "8   [{'awayProTeamId': 9, 'date': 1730048400000, '...   \n",
      "9   [{'awayProTeamId': 8, 'date': 1730669100000, '...   \n",
      "10                                                NaN   \n",
      "11  [{'awayProTeamId': 9, 'date': 1731866400000, '...   \n",
      "12  [{'awayProTeamId': 25, 'date': 1732483500000, ...   \n",
      "13  [{'awayProTeamId': 15, 'date': 1732843200000, ...   \n",
      "15  [{'awayProTeamId': 9, 'date': 1734312000000, '...   \n",
      "16  [{'awayProTeamId': 18, 'date': 1735002900000, ...   \n",
      "17  [{'awayProTeamId': 9, 'date': 1735495200000, '...   \n",
      "18  [{'awayProTeamId': 3, 'date': 1736064060000, '...   \n",
      "14  [{'awayProTeamId': 9, 'date': 1733447700000, '...   \n",
      "\n",
      "                                                   10  \n",
      "1   [{'awayProTeamId': 10, 'date': 1725814800000, ...  \n",
      "2   [{'awayProTeamId': 20, 'date': 1726419600000, ...  \n",
      "3   [{'awayProTeamId': 9, 'date': 1727024400000, '...  \n",
      "4   [{'awayProTeamId': 10, 'date': 1727739000000, ...  \n",
      "5                                                 NaN  \n",
      "6   [{'awayProTeamId': 11, 'date': 1728838800000, ...  \n",
      "7   [{'awayProTeamId': 10, 'date': 1729443600000, ...  \n",
      "8   [{'awayProTeamId': 10, 'date': 1730048400000, ...  \n",
      "9   [{'awayProTeamId': 17, 'date': 1730656800000, ...  \n",
      "10  [{'awayProTeamId': 10, 'date': 1731272700000, ...  \n",
      "11  [{'awayProTeamId': 16, 'date': 1731866400000, ...  \n",
      "12  [{'awayProTeamId': 10, 'date': 1732471200000, ...  \n",
      "13  [{'awayProTeamId': 10, 'date': 1733076000000, ...  \n",
      "15  [{'awayProTeamId': 4, 'date': 1734285600000, '...  \n",
      "16  [{'awayProTeamId': 10, 'date': 1734890400000, ...  \n",
      "17  [{'awayProTeamId': 10, 'date': 1735495200000, ...  \n",
      "18  [{'awayProTeamId': 34, 'date': 1736064060000, ...  \n",
      "14  [{'awayProTeamId': 30, 'date': 1733680800000, ...  \n",
      "\n",
      "[18 rows x 33 columns]\n"
     ]
    }
   ],
   "execution_count": 22
  }
 ],
 "metadata": {
  "kernelspec": {
   "display_name": "Python 3",
   "language": "python",
   "name": "python3"
  },
  "language_info": {
   "codemirror_mode": {
    "name": "ipython",
    "version": 2
   },
   "file_extension": ".py",
   "mimetype": "text/x-python",
   "name": "python",
   "nbconvert_exporter": "python",
   "pygments_lexer": "ipython2",
   "version": "2.7.6"
  }
 },
 "nbformat": 4,
 "nbformat_minor": 5
}
